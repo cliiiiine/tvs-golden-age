{
 "cells": [
  {
   "cell_type": "markdown",
   "id": "f85a80d2",
   "metadata": {},
   "source": [
    "# TV's Golden Age: Exploring Ratings and Popularity"
   ]
  },
  {
   "cell_type": "markdown",
   "id": "a1262df4",
   "metadata": {},
   "source": [
    "## Introduction <a id='intro'></a>\n",
    "This project explores data from the entertainment industry, focusing on television’s \"Golden Age,\" which began in 1999 with the release of The Sopranos and continues today. By analyzing a dataset of TV shows, we aim to understand the relationship between audience engagement and critical reception. Specifically, we will examine how the number of votes a show receives correlates with its overall rating. The underlying assumption is that the most highly-rated shows from this era also attract the most audience participation, reflected in their vote counts. Movies will be excluded from this analysis to maintain a focused study on television trends."
   ]
  },
  {
   "cell_type": "code",
   "execution_count": 38,
   "id": "1727d3f8",
   "metadata": {},
   "outputs": [],
   "source": [
    "# importing pandas\n",
    "import pandas as pd\n"
   ]
  },
  {
   "cell_type": "code",
   "execution_count": 39,
   "id": "fc5a1402",
   "metadata": {},
   "outputs": [],
   "source": [
    "# reading the files and storing them to df\n",
    "df = pd.read_csv('/datasets/movies_and_shows.csv')\n"
   ]
  },
  {
   "cell_type": "markdown",
   "id": "1cd0a96d",
   "metadata": {},
   "source": [
    "Print the first 10 table rows:"
   ]
  },
  {
   "cell_type": "code",
   "execution_count": 40,
   "id": "acd92001",
   "metadata": {},
   "outputs": [
    {
     "data": {
      "text/html": [
       "<div>\n",
       "<style scoped>\n",
       "    .dataframe tbody tr th:only-of-type {\n",
       "        vertical-align: middle;\n",
       "    }\n",
       "\n",
       "    .dataframe tbody tr th {\n",
       "        vertical-align: top;\n",
       "    }\n",
       "\n",
       "    .dataframe thead th {\n",
       "        text-align: right;\n",
       "    }\n",
       "</style>\n",
       "<table border=\"1\" class=\"dataframe\">\n",
       "  <thead>\n",
       "    <tr style=\"text-align: right;\">\n",
       "      <th></th>\n",
       "      <th>name</th>\n",
       "      <th>Character</th>\n",
       "      <th>r0le</th>\n",
       "      <th>TITLE</th>\n",
       "      <th>Type</th>\n",
       "      <th>release Year</th>\n",
       "      <th>genres</th>\n",
       "      <th>imdb sc0re</th>\n",
       "      <th>imdb v0tes</th>\n",
       "    </tr>\n",
       "  </thead>\n",
       "  <tbody>\n",
       "    <tr>\n",
       "      <th>0</th>\n",
       "      <td>Robert De Niro</td>\n",
       "      <td>Travis Bickle</td>\n",
       "      <td>ACTOR</td>\n",
       "      <td>Taxi Driver</td>\n",
       "      <td>MOVIE</td>\n",
       "      <td>1976</td>\n",
       "      <td>['drama', 'crime']</td>\n",
       "      <td>8.2</td>\n",
       "      <td>808582.0</td>\n",
       "    </tr>\n",
       "    <tr>\n",
       "      <th>1</th>\n",
       "      <td>Jodie Foster</td>\n",
       "      <td>Iris Steensma</td>\n",
       "      <td>ACTOR</td>\n",
       "      <td>Taxi Driver</td>\n",
       "      <td>MOVIE</td>\n",
       "      <td>1976</td>\n",
       "      <td>['drama', 'crime']</td>\n",
       "      <td>8.2</td>\n",
       "      <td>808582.0</td>\n",
       "    </tr>\n",
       "    <tr>\n",
       "      <th>2</th>\n",
       "      <td>Albert Brooks</td>\n",
       "      <td>Tom</td>\n",
       "      <td>ACTOR</td>\n",
       "      <td>Taxi Driver</td>\n",
       "      <td>MOVIE</td>\n",
       "      <td>1976</td>\n",
       "      <td>['drama', 'crime']</td>\n",
       "      <td>8.2</td>\n",
       "      <td>808582.0</td>\n",
       "    </tr>\n",
       "    <tr>\n",
       "      <th>3</th>\n",
       "      <td>Harvey Keitel</td>\n",
       "      <td>Matthew 'Sport' Higgins</td>\n",
       "      <td>ACTOR</td>\n",
       "      <td>Taxi Driver</td>\n",
       "      <td>MOVIE</td>\n",
       "      <td>1976</td>\n",
       "      <td>['drama', 'crime']</td>\n",
       "      <td>8.2</td>\n",
       "      <td>808582.0</td>\n",
       "    </tr>\n",
       "    <tr>\n",
       "      <th>4</th>\n",
       "      <td>Cybill Shepherd</td>\n",
       "      <td>Betsy</td>\n",
       "      <td>ACTOR</td>\n",
       "      <td>Taxi Driver</td>\n",
       "      <td>MOVIE</td>\n",
       "      <td>1976</td>\n",
       "      <td>['drama', 'crime']</td>\n",
       "      <td>8.2</td>\n",
       "      <td>808582.0</td>\n",
       "    </tr>\n",
       "    <tr>\n",
       "      <th>5</th>\n",
       "      <td>Peter Boyle</td>\n",
       "      <td>Wizard</td>\n",
       "      <td>ACTOR</td>\n",
       "      <td>Taxi Driver</td>\n",
       "      <td>MOVIE</td>\n",
       "      <td>1976</td>\n",
       "      <td>['drama', 'crime']</td>\n",
       "      <td>8.2</td>\n",
       "      <td>808582.0</td>\n",
       "    </tr>\n",
       "    <tr>\n",
       "      <th>6</th>\n",
       "      <td>Leonard Harris</td>\n",
       "      <td>Senator Charles Palantine</td>\n",
       "      <td>ACTOR</td>\n",
       "      <td>Taxi Driver</td>\n",
       "      <td>MOVIE</td>\n",
       "      <td>1976</td>\n",
       "      <td>['drama', 'crime']</td>\n",
       "      <td>8.2</td>\n",
       "      <td>808582.0</td>\n",
       "    </tr>\n",
       "    <tr>\n",
       "      <th>7</th>\n",
       "      <td>Diahnne Abbott</td>\n",
       "      <td>Concession Girl</td>\n",
       "      <td>ACTOR</td>\n",
       "      <td>Taxi Driver</td>\n",
       "      <td>MOVIE</td>\n",
       "      <td>1976</td>\n",
       "      <td>['drama', 'crime']</td>\n",
       "      <td>8.2</td>\n",
       "      <td>808582.0</td>\n",
       "    </tr>\n",
       "    <tr>\n",
       "      <th>8</th>\n",
       "      <td>Gino Ardito</td>\n",
       "      <td>Policeman at Rally</td>\n",
       "      <td>ACTOR</td>\n",
       "      <td>Taxi Driver</td>\n",
       "      <td>MOVIE</td>\n",
       "      <td>1976</td>\n",
       "      <td>['drama', 'crime']</td>\n",
       "      <td>8.2</td>\n",
       "      <td>808582.0</td>\n",
       "    </tr>\n",
       "    <tr>\n",
       "      <th>9</th>\n",
       "      <td>Martin Scorsese</td>\n",
       "      <td>Passenger Watching Silhouette</td>\n",
       "      <td>ACTOR</td>\n",
       "      <td>Taxi Driver</td>\n",
       "      <td>MOVIE</td>\n",
       "      <td>1976</td>\n",
       "      <td>['drama', 'crime']</td>\n",
       "      <td>8.2</td>\n",
       "      <td>808582.0</td>\n",
       "    </tr>\n",
       "  </tbody>\n",
       "</table>\n",
       "</div>"
      ],
      "text/plain": [
       "              name                      Character   r0le        TITLE   Type  \\\n",
       "0   Robert De Niro                  Travis Bickle  ACTOR  Taxi Driver  MOVIE   \n",
       "1     Jodie Foster                  Iris Steensma  ACTOR  Taxi Driver  MOVIE   \n",
       "2    Albert Brooks                            Tom  ACTOR  Taxi Driver  MOVIE   \n",
       "3    Harvey Keitel        Matthew 'Sport' Higgins  ACTOR  Taxi Driver  MOVIE   \n",
       "4  Cybill Shepherd                          Betsy  ACTOR  Taxi Driver  MOVIE   \n",
       "5      Peter Boyle                         Wizard  ACTOR  Taxi Driver  MOVIE   \n",
       "6   Leonard Harris      Senator Charles Palantine  ACTOR  Taxi Driver  MOVIE   \n",
       "7   Diahnne Abbott                Concession Girl  ACTOR  Taxi Driver  MOVIE   \n",
       "8      Gino Ardito             Policeman at Rally  ACTOR  Taxi Driver  MOVIE   \n",
       "9  Martin Scorsese  Passenger Watching Silhouette  ACTOR  Taxi Driver  MOVIE   \n",
       "\n",
       "   release Year              genres  imdb sc0re  imdb v0tes  \n",
       "0          1976  ['drama', 'crime']         8.2    808582.0  \n",
       "1          1976  ['drama', 'crime']         8.2    808582.0  \n",
       "2          1976  ['drama', 'crime']         8.2    808582.0  \n",
       "3          1976  ['drama', 'crime']         8.2    808582.0  \n",
       "4          1976  ['drama', 'crime']         8.2    808582.0  \n",
       "5          1976  ['drama', 'crime']         8.2    808582.0  \n",
       "6          1976  ['drama', 'crime']         8.2    808582.0  \n",
       "7          1976  ['drama', 'crime']         8.2    808582.0  \n",
       "8          1976  ['drama', 'crime']         8.2    808582.0  \n",
       "9          1976  ['drama', 'crime']         8.2    808582.0  "
      ]
     },
     "execution_count": 40,
     "metadata": {},
     "output_type": "execute_result"
    }
   ],
   "source": [
    "df.head(10)\n"
   ]
  },
  {
   "cell_type": "code",
   "execution_count": 41,
   "id": "7bf66d2a",
   "metadata": {},
   "outputs": [
    {
     "name": "stdout",
     "output_type": "stream",
     "text": [
      "<class 'pandas.core.frame.DataFrame'>\n",
      "RangeIndex: 85579 entries, 0 to 85578\n",
      "Data columns (total 9 columns):\n",
      " #   Column        Non-Null Count  Dtype  \n",
      "---  ------        --------------  -----  \n",
      " 0      name       85579 non-null  object \n",
      " 1   Character     85579 non-null  object \n",
      " 2   r0le          85579 non-null  object \n",
      " 3   TITLE         85578 non-null  object \n",
      " 4     Type        85579 non-null  object \n",
      " 5   release Year  85579 non-null  int64  \n",
      " 6   genres        85579 non-null  object \n",
      " 7   imdb sc0re    80970 non-null  float64\n",
      " 8   imdb v0tes    80853 non-null  float64\n",
      "dtypes: float64(2), int64(1), object(6)\n",
      "memory usage: 5.9+ MB\n"
     ]
    }
   ],
   "source": [
    "# obtaining general information about the data in df\n",
    "df.info()\n"
   ]
  },
  {
   "cell_type": "markdown",
   "id": "e91f62a7",
   "metadata": {},
   "source": [
    "The table contains nine columns. The majority store the same data type: object. The only exceptions are `'release Year'` (int64 type), `'imdb sc0re'` (float64 type) and `'imdb v0tes'` (float64 type). Scores and votes will be used in our analysis, so it's important to verify that they are present in the dataframe in the appropriate numeric format. Three columns (`'TITLE'`, `'imdb sc0re'` and `'imdb v0tes'`) have missing values.\n",
    "\n",
    "According to the documentation:\n",
    "- `'name'` — actor/director's name and last name\n",
    "- `'Character'` — character played (for actors)\n",
    "- `'r0le '` — the person's contribution to the title (it can be in the capacity of either actor or director)\n",
    "- `'TITLE '` — title of the movie (show)\n",
    "- `'  Type'` — show or movie\n",
    "- `'release Year'` — year when movie (show) was released\n",
    "- `'genres'` — list of genres under which the movie (show) falls\n",
    "- `'imdb sc0re'` — score on IMDb\n",
    "- `'imdb v0tes'` — votes on IMDb\n",
    "\n",
    "We can see three issues with the column names:\n",
    "1. Some names are uppercase, while others are lowercase.\n",
    "2. There are names containing whitespace.\n",
    "3. A few column names have digit '0' instead of letter 'o'. \n"
   ]
  },
  {
   "cell_type": "markdown",
   "id": "4355de7b",
   "metadata": {},
   "source": [
    "### Conclusions <a id='data_review_conclusions'></a> \n",
    "\n",
    "Each row in the table stores data about a movie or show. The columns can be divided into two categories: the first is about the roles held by different people who worked on the movie or show (role, name of the actor or director, and character if the row is about an actor); the second category is information about the movie or show itself (title, release year, genre, imdb figures).\n",
    "\n",
    "It's clear that there is sufficient data to do the analysis and evaluate our assumption. However, to move forward, we need to preprocess the data."
   ]
  },
  {
   "cell_type": "markdown",
   "id": "c5dc9111",
   "metadata": {},
   "source": [
    "## Data preprocessing <a id='data_preprocessing'></a>\n"
   ]
  },
  {
   "cell_type": "code",
   "execution_count": 42,
   "id": "9c850d13",
   "metadata": {},
   "outputs": [
    {
     "data": {
      "text/plain": [
       "Index(['   name', 'Character', 'r0le', 'TITLE', '  Type', 'release Year',\n",
       "       'genres', 'imdb sc0re', 'imdb v0tes'],\n",
       "      dtype='object')"
      ]
     },
     "execution_count": 42,
     "metadata": {},
     "output_type": "execute_result"
    }
   ],
   "source": [
    "# the list of column names in the df table\n",
    "df.columns\n"
   ]
  },
  {
   "cell_type": "code",
   "execution_count": 43,
   "id": "23a1dc11",
   "metadata": {},
   "outputs": [],
   "source": [
    "# renaming columns\n",
    "df= df.rename(columns={\n",
    "    '   name':'name',\n",
    "    'Character':'character',\n",
    "    'r0le':'role',\n",
    "    'TITLE':'title',\n",
    "    '  Type':'type',\n",
    "    'release Year':'release_year', \n",
    "    'genres':'genres',\n",
    "    'imdb sc0re':'imdb_score',\n",
    "    'imdb v0tes':'imdb_votes'\n",
    "})\n"
   ]
  },
  {
   "cell_type": "code",
   "execution_count": 44,
   "id": "0eb6527f",
   "metadata": {},
   "outputs": [
    {
     "data": {
      "text/plain": [
       "Index(['name', 'character', 'role', 'title', 'type', 'release_year', 'genres',\n",
       "       'imdb_score', 'imdb_votes'],\n",
       "      dtype='object')"
      ]
     },
     "execution_count": 44,
     "metadata": {},
     "output_type": "execute_result"
    }
   ],
   "source": [
    "# checking result: the list of column names\n",
    "df.columns\n"
   ]
  },
  {
   "cell_type": "markdown",
   "id": "14d9c319",
   "metadata": {},
   "source": [
    "### Missing values <a id='missing_values'></a>"
   ]
  },
  {
   "cell_type": "code",
   "execution_count": 45,
   "id": "21c427f2",
   "metadata": {},
   "outputs": [
    {
     "data": {
      "text/plain": [
       "name               0\n",
       "character          0\n",
       "role               0\n",
       "title              1\n",
       "type               0\n",
       "release_year       0\n",
       "genres             0\n",
       "imdb_score      4609\n",
       "imdb_votes      4726\n",
       "dtype: int64"
      ]
     },
     "execution_count": 45,
     "metadata": {},
     "output_type": "execute_result"
    }
   ],
   "source": [
    "# calculating missing values\n",
    "\n",
    "df.isna().sum()"
   ]
  },
  {
   "cell_type": "markdown",
   "id": "fc74621c",
   "metadata": {},
   "source": [
    "<div class=\"alert alert-success\">\n",
    "<b>Reviewer's comment v1</b>\n",
    "    \n",
    "Great that you selected `isna()` method to find missing values! \n",
    "\n",
    "It is also sometimes helpful to check not only the total amount of missing values in each column but also look at the percentage of missing values. It helps to understand the overall impact. You can check percentage using, for example, this code:\n",
    "\n",
    "`df.isnull().sum()/len(df)`"
   ]
  },
  {
   "cell_type": "markdown",
   "id": "c8272df3",
   "metadata": {},
   "source": [
    "Not all missing values affect the research: the single missing value in `'title'` is not critical. The missing values in columns `'imdb_score'` and `'imdb_votes'` represent around 6% of all records (4,609 and 4,726, respectively, of the total 85,579). This could potentially affect our research. To avoid this issue, we will drop rows with missing values in the `'imdb_score'` and `'imdb_votes'` columns."
   ]
  },
  {
   "cell_type": "code",
   "execution_count": 46,
   "id": "599d5550",
   "metadata": {},
   "outputs": [],
   "source": [
    "# dropping rows where columns with title, scores and votes have missing values\n",
    "df = df.dropna(axis='rows')"
   ]
  },
  {
   "cell_type": "code",
   "execution_count": 47,
   "id": "55c0b0ce",
   "metadata": {},
   "outputs": [
    {
     "name": "stdout",
     "output_type": "stream",
     "text": [
      "<class 'pandas.core.frame.DataFrame'>\n",
      "Int64Index: 80853 entries, 0 to 85578\n",
      "Data columns (total 9 columns):\n",
      " #   Column        Non-Null Count  Dtype  \n",
      "---  ------        --------------  -----  \n",
      " 0   name          80853 non-null  object \n",
      " 1   character     80853 non-null  object \n",
      " 2   role          80853 non-null  object \n",
      " 3   title         80853 non-null  object \n",
      " 4   type          80853 non-null  object \n",
      " 5   release_year  80853 non-null  int64  \n",
      " 6   genres        80853 non-null  object \n",
      " 7   imdb_score    80853 non-null  float64\n",
      " 8   imdb_votes    80853 non-null  float64\n",
      "dtypes: float64(2), int64(1), object(6)\n",
      "memory usage: 6.2+ MB\n"
     ]
    }
   ],
   "source": [
    "# counting missing values\n",
    "df.isna().sum()\n",
    "df.info()"
   ]
  },
  {
   "cell_type": "markdown",
   "id": "a7dc7aa0",
   "metadata": {},
   "source": [
    "### Duplicates <a id='duplicates'></a>"
   ]
  },
  {
   "cell_type": "code",
   "execution_count": 48,
   "id": "9227df01",
   "metadata": {},
   "outputs": [
    {
     "data": {
      "text/plain": [
       "6994"
      ]
     },
     "execution_count": 48,
     "metadata": {},
     "output_type": "execute_result"
    }
   ],
   "source": [
    "# counting duplicate rows\n",
    "duplicated_rows = df.duplicated().sum()\n",
    "duplicated_rows"
   ]
  },
  {
   "cell_type": "markdown",
   "id": "5f6eb0fc",
   "metadata": {},
   "source": [
    "Review the duplicate rows to determine if removing them would distort our dataset."
   ]
  },
  {
   "cell_type": "code",
   "execution_count": 49,
   "id": "bcf32fcb",
   "metadata": {},
   "outputs": [
    {
     "data": {
      "text/html": [
       "<div>\n",
       "<style scoped>\n",
       "    .dataframe tbody tr th:only-of-type {\n",
       "        vertical-align: middle;\n",
       "    }\n",
       "\n",
       "    .dataframe tbody tr th {\n",
       "        vertical-align: top;\n",
       "    }\n",
       "\n",
       "    .dataframe thead th {\n",
       "        text-align: right;\n",
       "    }\n",
       "</style>\n",
       "<table border=\"1\" class=\"dataframe\">\n",
       "  <thead>\n",
       "    <tr style=\"text-align: right;\">\n",
       "      <th></th>\n",
       "      <th>index</th>\n",
       "      <th>name</th>\n",
       "      <th>character</th>\n",
       "      <th>role</th>\n",
       "      <th>title</th>\n",
       "      <th>type</th>\n",
       "      <th>release_year</th>\n",
       "      <th>genres</th>\n",
       "      <th>imdb_score</th>\n",
       "      <th>imdb_votes</th>\n",
       "    </tr>\n",
       "  </thead>\n",
       "  <tbody>\n",
       "    <tr>\n",
       "      <th>0</th>\n",
       "      <td>7560</td>\n",
       "      <td>Philip Greene</td>\n",
       "      <td>Baseball Fan (uncredited)</td>\n",
       "      <td>ACTOR</td>\n",
       "      <td>How Do You Know</td>\n",
       "      <td>MOVIE</td>\n",
       "      <td>2010</td>\n",
       "      <td>['comedy', 'drama', 'romance']</td>\n",
       "      <td>5.4</td>\n",
       "      <td>50383.0</td>\n",
       "    </tr>\n",
       "    <tr>\n",
       "      <th>1</th>\n",
       "      <td>7561</td>\n",
       "      <td>Philip Greene</td>\n",
       "      <td>Baseball Fan (uncredited)</td>\n",
       "      <td>ACTOR</td>\n",
       "      <td>How Do You Know</td>\n",
       "      <td>MOVIE</td>\n",
       "      <td>2010</td>\n",
       "      <td>['comedy', 'drama', 'romance']</td>\n",
       "      <td>5.4</td>\n",
       "      <td>50383.0</td>\n",
       "    </tr>\n",
       "    <tr>\n",
       "      <th>2</th>\n",
       "      <td>14502</td>\n",
       "      <td>Dan Levy</td>\n",
       "      <td>Reporter</td>\n",
       "      <td>ACTOR</td>\n",
       "      <td>A Very Harold &amp; Kumar Christmas</td>\n",
       "      <td>MOVIE</td>\n",
       "      <td>2011</td>\n",
       "      <td>['comedy', 'fantasy', 'romance']</td>\n",
       "      <td>6.2</td>\n",
       "      <td>69562.0</td>\n",
       "    </tr>\n",
       "    <tr>\n",
       "      <th>3</th>\n",
       "      <td>14512</td>\n",
       "      <td>Dan Levy</td>\n",
       "      <td>Reporter</td>\n",
       "      <td>ACTOR</td>\n",
       "      <td>A Very Harold &amp; Kumar Christmas</td>\n",
       "      <td>MOVIE</td>\n",
       "      <td>2011</td>\n",
       "      <td>['comedy', 'fantasy', 'romance']</td>\n",
       "      <td>6.2</td>\n",
       "      <td>69562.0</td>\n",
       "    </tr>\n",
       "    <tr>\n",
       "      <th>4</th>\n",
       "      <td>18951</td>\n",
       "      <td>Nicolas Le Nev??</td>\n",
       "      <td>unknown</td>\n",
       "      <td>DIRECTOR</td>\n",
       "      <td>Sammy &amp; Co</td>\n",
       "      <td>SHOW</td>\n",
       "      <td>2014</td>\n",
       "      <td>['animation', 'european']</td>\n",
       "      <td>5.7</td>\n",
       "      <td>31.0</td>\n",
       "    </tr>\n",
       "  </tbody>\n",
       "</table>\n",
       "</div>"
      ],
      "text/plain": [
       "   index              name                  character      role  \\\n",
       "0   7560     Philip Greene  Baseball Fan (uncredited)     ACTOR   \n",
       "1   7561     Philip Greene  Baseball Fan (uncredited)     ACTOR   \n",
       "2  14502          Dan Levy                   Reporter     ACTOR   \n",
       "3  14512          Dan Levy                   Reporter     ACTOR   \n",
       "4  18951  Nicolas Le Nev??                    unknown  DIRECTOR   \n",
       "\n",
       "                             title   type  release_year  \\\n",
       "0                  How Do You Know  MOVIE          2010   \n",
       "1                  How Do You Know  MOVIE          2010   \n",
       "2  A Very Harold & Kumar Christmas  MOVIE          2011   \n",
       "3  A Very Harold & Kumar Christmas  MOVIE          2011   \n",
       "4                       Sammy & Co   SHOW          2014   \n",
       "\n",
       "                             genres  imdb_score  imdb_votes  \n",
       "0    ['comedy', 'drama', 'romance']         5.4     50383.0  \n",
       "1    ['comedy', 'drama', 'romance']         5.4     50383.0  \n",
       "2  ['comedy', 'fantasy', 'romance']         6.2     69562.0  \n",
       "3  ['comedy', 'fantasy', 'romance']         6.2     69562.0  \n",
       "4         ['animation', 'european']         5.7        31.0  "
      ]
     },
     "execution_count": 49,
     "metadata": {},
     "output_type": "execute_result"
    }
   ],
   "source": [
    "duplicated_rows = df[df.duplicated(keep=False)]\n",
    "duplicated_rows.head().reset_index()"
   ]
  },
  {
   "cell_type": "markdown",
   "id": "a1ed6640",
   "metadata": {},
   "source": [
    "There are clear duplicates in the printed rows. We can safely remove them."
   ]
  },
  {
   "cell_type": "code",
   "execution_count": 50,
   "id": "724d5bc8",
   "metadata": {},
   "outputs": [],
   "source": [
    "# removing duplicate rows\n",
    "duplicated_rows = duplicated_rows.drop_duplicates()\n"
   ]
  },
  {
   "cell_type": "markdown",
   "id": "fc8c77ba",
   "metadata": {},
   "source": [
    "Check for duplicate rows once more to make sure you have removed all of them:"
   ]
  },
  {
   "cell_type": "code",
   "execution_count": 51,
   "id": "8091a9bc",
   "metadata": {},
   "outputs": [
    {
     "data": {
      "text/html": [
       "<div>\n",
       "<style scoped>\n",
       "    .dataframe tbody tr th:only-of-type {\n",
       "        vertical-align: middle;\n",
       "    }\n",
       "\n",
       "    .dataframe tbody tr th {\n",
       "        vertical-align: top;\n",
       "    }\n",
       "\n",
       "    .dataframe thead th {\n",
       "        text-align: right;\n",
       "    }\n",
       "</style>\n",
       "<table border=\"1\" class=\"dataframe\">\n",
       "  <thead>\n",
       "    <tr style=\"text-align: right;\">\n",
       "      <th></th>\n",
       "      <th>name</th>\n",
       "      <th>character</th>\n",
       "      <th>role</th>\n",
       "      <th>title</th>\n",
       "      <th>type</th>\n",
       "      <th>release_year</th>\n",
       "      <th>genres</th>\n",
       "      <th>imdb_score</th>\n",
       "      <th>imdb_votes</th>\n",
       "    </tr>\n",
       "  </thead>\n",
       "  <tbody>\n",
       "    <tr>\n",
       "      <th>7560</th>\n",
       "      <td>Philip Greene</td>\n",
       "      <td>Baseball Fan (uncredited)</td>\n",
       "      <td>ACTOR</td>\n",
       "      <td>How Do You Know</td>\n",
       "      <td>MOVIE</td>\n",
       "      <td>2010</td>\n",
       "      <td>['comedy', 'drama', 'romance']</td>\n",
       "      <td>5.4</td>\n",
       "      <td>50383.0</td>\n",
       "    </tr>\n",
       "    <tr>\n",
       "      <th>14502</th>\n",
       "      <td>Dan Levy</td>\n",
       "      <td>Reporter</td>\n",
       "      <td>ACTOR</td>\n",
       "      <td>A Very Harold &amp; Kumar Christmas</td>\n",
       "      <td>MOVIE</td>\n",
       "      <td>2011</td>\n",
       "      <td>['comedy', 'fantasy', 'romance']</td>\n",
       "      <td>6.2</td>\n",
       "      <td>69562.0</td>\n",
       "    </tr>\n",
       "    <tr>\n",
       "      <th>18951</th>\n",
       "      <td>Nicolas Le Nev??</td>\n",
       "      <td>unknown</td>\n",
       "      <td>DIRECTOR</td>\n",
       "      <td>Sammy &amp; Co</td>\n",
       "      <td>SHOW</td>\n",
       "      <td>2014</td>\n",
       "      <td>['animation', 'european']</td>\n",
       "      <td>5.7</td>\n",
       "      <td>31.0</td>\n",
       "    </tr>\n",
       "    <tr>\n",
       "      <th>22454</th>\n",
       "      <td>John Iii Franklin</td>\n",
       "      <td>Himself</td>\n",
       "      <td>ACTOR</td>\n",
       "      <td>Last Chance U</td>\n",
       "      <td>SHOW</td>\n",
       "      <td>2016</td>\n",
       "      <td>['documentation', 'sport']</td>\n",
       "      <td>8.4</td>\n",
       "      <td>6897.0</td>\n",
       "    </tr>\n",
       "    <tr>\n",
       "      <th>29556</th>\n",
       "      <td>Claudio Roca</td>\n",
       "      <td>Nicol?­s</td>\n",
       "      <td>ACTOR</td>\n",
       "      <td>Narcos: Mexico</td>\n",
       "      <td>SHOW</td>\n",
       "      <td>2018</td>\n",
       "      <td>['drama', 'crime']</td>\n",
       "      <td>8.4</td>\n",
       "      <td>82042.0</td>\n",
       "    </tr>\n",
       "  </tbody>\n",
       "</table>\n",
       "</div>"
      ],
      "text/plain": [
       "                    name                  character      role  \\\n",
       "7560       Philip Greene  Baseball Fan (uncredited)     ACTOR   \n",
       "14502           Dan Levy                   Reporter     ACTOR   \n",
       "18951   Nicolas Le Nev??                    unknown  DIRECTOR   \n",
       "22454  John Iii Franklin                    Himself     ACTOR   \n",
       "29556       Claudio Roca                   Nicol?­s     ACTOR   \n",
       "\n",
       "                                 title   type  release_year  \\\n",
       "7560                   How Do You Know  MOVIE          2010   \n",
       "14502  A Very Harold & Kumar Christmas  MOVIE          2011   \n",
       "18951                       Sammy & Co   SHOW          2014   \n",
       "22454                    Last Chance U   SHOW          2016   \n",
       "29556                   Narcos: Mexico   SHOW          2018   \n",
       "\n",
       "                                 genres  imdb_score  imdb_votes  \n",
       "7560     ['comedy', 'drama', 'romance']         5.4     50383.0  \n",
       "14502  ['comedy', 'fantasy', 'romance']         6.2     69562.0  \n",
       "18951         ['animation', 'european']         5.7        31.0  \n",
       "22454        ['documentation', 'sport']         8.4      6897.0  \n",
       "29556                ['drama', 'crime']         8.4     82042.0  "
      ]
     },
     "execution_count": 51,
     "metadata": {},
     "output_type": "execute_result"
    }
   ],
   "source": [
    "# checking for duplicates\n",
    "duplicated_rows.head()\n"
   ]
  },
  {
   "cell_type": "code",
   "execution_count": 52,
   "id": "3d7b0ac5",
   "metadata": {},
   "outputs": [
    {
     "data": {
      "text/plain": [
       "array(['MOVIE', 'the movie', 'tv show', 'shows', 'movies', 'tv shows',\n",
       "       'tv series', 'tv', 'SHOW'], dtype=object)"
      ]
     },
     "execution_count": 52,
     "metadata": {},
     "output_type": "execute_result"
    }
   ],
   "source": [
    "# viewing unique type names\n",
    "unique_type = df['type'].unique()\n",
    "unique_type"
   ]
  },
  {
   "cell_type": "markdown",
   "id": "ac6e8b18",
   "metadata": {},
   "source": [
    "I will look through the list to find implicit duplicates of `'show'` (`'movie'` duplicates will be ignored since the assumption is about shows). These could be names written incorrectly or alternative names of the same genre.\n",
    "\n",
    "You will see the following implicit duplicates:\n",
    "* `'shows'`\n",
    "* `'SHOW'`\n",
    "* `'tv show'`\n",
    "* `'tv shows'`\n",
    "* `'tv series'`\n",
    "* `'tv'`\n",
    "\n",
    "To get rid of them, declare the function `replace_wrong_show()` with two parameters: \n",
    "* `wrong_shows_list=` — the list of duplicates\n",
    "* `correct_show=` — the string with the correct value\n",
    "\n",
    "The function should correct the names in the `'type'` column from the `df` table (i.e., replace each value from the `wrong_shows_list` list with the value in `correct_show`)."
   ]
  },
  {
   "cell_type": "code",
   "execution_count": 53,
   "id": "bff944f9",
   "metadata": {},
   "outputs": [],
   "source": [
    "# function for replacing implicit duplicates\n",
    "wrong_shows_list = ['shows', 'tv show', 'tv shows', 'tv series', 'tv']\n",
    "correct_show = 'SHOW'\n",
    "\n",
    "def replace_wrong_show(wrong_shows_list, correct_show):\n",
    "    for name in wrong_shows_list:\n",
    "        df['type'] = df['type'].replace(name, correct_show)\n",
    "    "
   ]
  },
  {
   "cell_type": "markdown",
   "id": "d02d13a6",
   "metadata": {},
   "source": [
    "I called `replace_wrong_show()` and passed it arguments so that it clears implicit duplicates and replaces them with `SHOW`:"
   ]
  },
  {
   "cell_type": "code",
   "execution_count": 54,
   "id": "a2217e53",
   "metadata": {},
   "outputs": [],
   "source": [
    "# removing implicit duplicates\n",
    "replace_wrong_show(wrong_shows_list, correct_show)"
   ]
  },
  {
   "cell_type": "markdown",
   "id": "318b09f7",
   "metadata": {},
   "source": [
    "Make sure the duplicate names are removed. Print the list of unique values from the `'type'` column:"
   ]
  },
  {
   "cell_type": "code",
   "execution_count": 55,
   "id": "25d49d73",
   "metadata": {},
   "outputs": [
    {
     "data": {
      "text/plain": [
       "array(['MOVIE', 'SHOW', 'movies', 'the movie'], dtype=object)"
      ]
     },
     "execution_count": 55,
     "metadata": {},
     "output_type": "execute_result"
    }
   ],
   "source": [
    "# viewing unique genre names\n",
    "df['type'].sort_values().unique()"
   ]
  },
  {
   "cell_type": "markdown",
   "id": "18b2049e",
   "metadata": {},
   "source": [
    "### Conclusions <a id='data_preprocessing_conclusions'></a>\n",
    "We detected three issues with the data:\n",
    "\n",
    "- Incorrect header styles\n",
    "- Missing values\n",
    "- Duplicate rows and implicit duplicates\n",
    "\n",
    "The headers have been cleaned up to make processing the table simpler.\n",
    "\n",
    "All rows with missing values have been removed. \n",
    "\n",
    "The absence of duplicates will make the results more precise and easier to understand.\n",
    "\n",
    "Now we can move on to our analysis of the prepared data."
   ]
  },
  {
   "cell_type": "markdown",
   "id": "1aa0f1b1",
   "metadata": {},
   "source": [
    "## Stage 3. Data analysis <a id='hypotheses'></a>"
   ]
  },
  {
   "cell_type": "markdown",
   "id": "f8fb6a0e",
   "metadata": {},
   "source": [
    "Based on the previous project stages, you can now define how the assumption will be checked. Calculate the average amount of votes for each score (this data is available in the `imdb_score` and `imdb_votes` columns), and then check how these averages relate to each other. If the averages for shows with the highest scores are bigger than those for shows with lower scores, the assumption appears to be true.\n",
    "\n",
    "Based on this, complete the following steps:\n",
    "\n",
    "- Filter the dataframe to only include shows released in 1999 or later.\n",
    "- Group scores into buckets by rounding the values of the appropriate column (a set of 1-10 integers will help us make the outcome of our calculations more evident without damaging the quality of our research).\n",
    "- Identify outliers among scores based on their number of votes, and exclude scores with few votes.\n",
    "- Calculate the average votes for each score and check whether the assumption matches the results."
   ]
  },
  {
   "cell_type": "markdown",
   "id": "0ea2cb51",
   "metadata": {},
   "source": [
    "To filter the dataframe and only include shows released in 1999 or later, you will take two steps. First, keep only titles published in 1999 or later in our dataframe. Then, filter the table to only contain shows (movies will be removed)."
   ]
  },
  {
   "cell_type": "code",
   "execution_count": 56,
   "id": "6a704aa1",
   "metadata": {},
   "outputs": [
    {
     "data": {
      "text/html": [
       "<div>\n",
       "<style scoped>\n",
       "    .dataframe tbody tr th:only-of-type {\n",
       "        vertical-align: middle;\n",
       "    }\n",
       "\n",
       "    .dataframe tbody tr th {\n",
       "        vertical-align: top;\n",
       "    }\n",
       "\n",
       "    .dataframe thead th {\n",
       "        text-align: right;\n",
       "    }\n",
       "</style>\n",
       "<table border=\"1\" class=\"dataframe\">\n",
       "  <thead>\n",
       "    <tr style=\"text-align: right;\">\n",
       "      <th></th>\n",
       "      <th>name</th>\n",
       "      <th>character</th>\n",
       "      <th>role</th>\n",
       "      <th>title</th>\n",
       "      <th>type</th>\n",
       "      <th>release_year</th>\n",
       "      <th>genres</th>\n",
       "      <th>imdb_score</th>\n",
       "      <th>imdb_votes</th>\n",
       "    </tr>\n",
       "  </thead>\n",
       "  <tbody>\n",
       "    <tr>\n",
       "      <th>4060</th>\n",
       "      <td>Manisha Koirala</td>\n",
       "      <td>Priya Verma</td>\n",
       "      <td>ACTOR</td>\n",
       "      <td>Mann</td>\n",
       "      <td>MOVIE</td>\n",
       "      <td>1999</td>\n",
       "      <td>['drama', 'romance']</td>\n",
       "      <td>6.1</td>\n",
       "      <td>5451.0</td>\n",
       "    </tr>\n",
       "    <tr>\n",
       "      <th>4142</th>\n",
       "      <td>Sooraj Barjatya</td>\n",
       "      <td>unknown</td>\n",
       "      <td>DIRECTOR</td>\n",
       "      <td>Hum Saath Saath Hain</td>\n",
       "      <td>MOVIE</td>\n",
       "      <td>1999</td>\n",
       "      <td>['romance', 'family', 'fantasy', 'drama']</td>\n",
       "      <td>6.2</td>\n",
       "      <td>8552.0</td>\n",
       "    </tr>\n",
       "    <tr>\n",
       "      <th>4141</th>\n",
       "      <td>Zoya Afroz</td>\n",
       "      <td>Radhika</td>\n",
       "      <td>ACTOR</td>\n",
       "      <td>Hum Saath Saath Hain</td>\n",
       "      <td>MOVIE</td>\n",
       "      <td>1999</td>\n",
       "      <td>['romance', 'family', 'fantasy', 'drama']</td>\n",
       "      <td>6.2</td>\n",
       "      <td>8552.0</td>\n",
       "    </tr>\n",
       "    <tr>\n",
       "      <th>4140</th>\n",
       "      <td>Jatin Kanakia</td>\n",
       "      <td>Dr. Sen</td>\n",
       "      <td>ACTOR</td>\n",
       "      <td>Hum Saath Saath Hain</td>\n",
       "      <td>MOVIE</td>\n",
       "      <td>1999</td>\n",
       "      <td>['romance', 'family', 'fantasy', 'drama']</td>\n",
       "      <td>6.2</td>\n",
       "      <td>8552.0</td>\n",
       "    </tr>\n",
       "    <tr>\n",
       "      <th>4139</th>\n",
       "      <td>Achyut Potdar</td>\n",
       "      <td>Khan Saheb</td>\n",
       "      <td>ACTOR</td>\n",
       "      <td>Hum Saath Saath Hain</td>\n",
       "      <td>MOVIE</td>\n",
       "      <td>1999</td>\n",
       "      <td>['romance', 'family', 'fantasy', 'drama']</td>\n",
       "      <td>6.2</td>\n",
       "      <td>8552.0</td>\n",
       "    </tr>\n",
       "    <tr>\n",
       "      <th>...</th>\n",
       "      <td>...</td>\n",
       "      <td>...</td>\n",
       "      <td>...</td>\n",
       "      <td>...</td>\n",
       "      <td>...</td>\n",
       "      <td>...</td>\n",
       "      <td>...</td>\n",
       "      <td>...</td>\n",
       "      <td>...</td>\n",
       "    </tr>\n",
       "    <tr>\n",
       "      <th>67911</th>\n",
       "      <td>Jean Harlow</td>\n",
       "      <td>Self (archive footage)</td>\n",
       "      <td>ACTOR</td>\n",
       "      <td>The Mystery of Marilyn Monroe: The Unheard Tapes</td>\n",
       "      <td>MOVIE</td>\n",
       "      <td>2022</td>\n",
       "      <td>['documentation']</td>\n",
       "      <td>6.2</td>\n",
       "      <td>3978.0</td>\n",
       "    </tr>\n",
       "    <tr>\n",
       "      <th>67912</th>\n",
       "      <td>Jack Lemmon</td>\n",
       "      <td>Self (archive footage)</td>\n",
       "      <td>ACTOR</td>\n",
       "      <td>The Mystery of Marilyn Monroe: The Unheard Tapes</td>\n",
       "      <td>MOVIE</td>\n",
       "      <td>2022</td>\n",
       "      <td>['documentation']</td>\n",
       "      <td>6.2</td>\n",
       "      <td>3978.0</td>\n",
       "    </tr>\n",
       "    <tr>\n",
       "      <th>67913</th>\n",
       "      <td>Jane Russell</td>\n",
       "      <td>Self (archive footage)</td>\n",
       "      <td>ACTOR</td>\n",
       "      <td>The Mystery of Marilyn Monroe: The Unheard Tapes</td>\n",
       "      <td>MOVIE</td>\n",
       "      <td>2022</td>\n",
       "      <td>['documentation']</td>\n",
       "      <td>6.2</td>\n",
       "      <td>3978.0</td>\n",
       "    </tr>\n",
       "    <tr>\n",
       "      <th>67904</th>\n",
       "      <td>Lauren Bacall</td>\n",
       "      <td>Self (archive footage)</td>\n",
       "      <td>ACTOR</td>\n",
       "      <td>The Mystery of Marilyn Monroe: The Unheard Tapes</td>\n",
       "      <td>MOVIE</td>\n",
       "      <td>2022</td>\n",
       "      <td>['documentation']</td>\n",
       "      <td>6.2</td>\n",
       "      <td>3978.0</td>\n",
       "    </tr>\n",
       "    <tr>\n",
       "      <th>71383</th>\n",
       "      <td>Kim Sang-ho</td>\n",
       "      <td>unknown</td>\n",
       "      <td>DIRECTOR</td>\n",
       "      <td>Thirty-Nine</td>\n",
       "      <td>SHOW</td>\n",
       "      <td>2022</td>\n",
       "      <td>['drama', 'romance']</td>\n",
       "      <td>7.9</td>\n",
       "      <td>150.0</td>\n",
       "    </tr>\n",
       "  </tbody>\n",
       "</table>\n",
       "<p>76875 rows × 9 columns</p>\n",
       "</div>"
      ],
      "text/plain": [
       "                  name               character      role  \\\n",
       "4060   Manisha Koirala             Priya Verma     ACTOR   \n",
       "4142   Sooraj Barjatya                 unknown  DIRECTOR   \n",
       "4141        Zoya Afroz                 Radhika     ACTOR   \n",
       "4140     Jatin Kanakia                 Dr. Sen     ACTOR   \n",
       "4139     Achyut Potdar              Khan Saheb     ACTOR   \n",
       "...                ...                     ...       ...   \n",
       "67911      Jean Harlow  Self (archive footage)     ACTOR   \n",
       "67912      Jack Lemmon  Self (archive footage)     ACTOR   \n",
       "67913     Jane Russell  Self (archive footage)     ACTOR   \n",
       "67904    Lauren Bacall  Self (archive footage)     ACTOR   \n",
       "71383      Kim Sang-ho                 unknown  DIRECTOR   \n",
       "\n",
       "                                                  title   type  release_year  \\\n",
       "4060                                               Mann  MOVIE          1999   \n",
       "4142                               Hum Saath Saath Hain  MOVIE          1999   \n",
       "4141                               Hum Saath Saath Hain  MOVIE          1999   \n",
       "4140                               Hum Saath Saath Hain  MOVIE          1999   \n",
       "4139                               Hum Saath Saath Hain  MOVIE          1999   \n",
       "...                                                 ...    ...           ...   \n",
       "67911  The Mystery of Marilyn Monroe: The Unheard Tapes  MOVIE          2022   \n",
       "67912  The Mystery of Marilyn Monroe: The Unheard Tapes  MOVIE          2022   \n",
       "67913  The Mystery of Marilyn Monroe: The Unheard Tapes  MOVIE          2022   \n",
       "67904  The Mystery of Marilyn Monroe: The Unheard Tapes  MOVIE          2022   \n",
       "71383                                       Thirty-Nine   SHOW          2022   \n",
       "\n",
       "                                          genres  imdb_score  imdb_votes  \n",
       "4060                        ['drama', 'romance']         6.1      5451.0  \n",
       "4142   ['romance', 'family', 'fantasy', 'drama']         6.2      8552.0  \n",
       "4141   ['romance', 'family', 'fantasy', 'drama']         6.2      8552.0  \n",
       "4140   ['romance', 'family', 'fantasy', 'drama']         6.2      8552.0  \n",
       "4139   ['romance', 'family', 'fantasy', 'drama']         6.2      8552.0  \n",
       "...                                          ...         ...         ...  \n",
       "67911                          ['documentation']         6.2      3978.0  \n",
       "67912                          ['documentation']         6.2      3978.0  \n",
       "67913                          ['documentation']         6.2      3978.0  \n",
       "67904                          ['documentation']         6.2      3978.0  \n",
       "71383                       ['drama', 'romance']         7.9       150.0  \n",
       "\n",
       "[76875 rows x 9 columns]"
      ]
     },
     "execution_count": 56,
     "metadata": {},
     "output_type": "execute_result"
    }
   ],
   "source": [
    "# using conditional indexing modify df so it has only titles released after 1999 (with 1999 included)\n",
    "# give the slice of dataframe new name\n",
    "\n",
    "show_year = df[df['release_year'] >= 1999].sort_values(by='release_year', ascending=True)\n",
    "show_year\n",
    "\n"
   ]
  },
  {
   "cell_type": "code",
   "execution_count": 57,
   "id": "128dc6a9",
   "metadata": {
    "scrolled": true
   },
   "outputs": [
    {
     "data": {
      "text/html": [
       "<div>\n",
       "<style scoped>\n",
       "    .dataframe tbody tr th:only-of-type {\n",
       "        vertical-align: middle;\n",
       "    }\n",
       "\n",
       "    .dataframe tbody tr th {\n",
       "        vertical-align: top;\n",
       "    }\n",
       "\n",
       "    .dataframe thead th {\n",
       "        text-align: right;\n",
       "    }\n",
       "</style>\n",
       "<table border=\"1\" class=\"dataframe\">\n",
       "  <thead>\n",
       "    <tr style=\"text-align: right;\">\n",
       "      <th></th>\n",
       "      <th>name</th>\n",
       "      <th>character</th>\n",
       "      <th>role</th>\n",
       "      <th>title</th>\n",
       "      <th>type</th>\n",
       "      <th>release_year</th>\n",
       "      <th>genres</th>\n",
       "      <th>imdb_score</th>\n",
       "      <th>imdb_votes</th>\n",
       "    </tr>\n",
       "  </thead>\n",
       "  <tbody>\n",
       "    <tr>\n",
       "      <th>2076</th>\n",
       "      <td>Mayumi Tanaka</td>\n",
       "      <td>Monkey D. Luffy (voice)</td>\n",
       "      <td>ACTOR</td>\n",
       "      <td>One Piece</td>\n",
       "      <td>SHOW</td>\n",
       "      <td>1999</td>\n",
       "      <td>['animation', 'action', 'comedy', 'drama', 'fa...</td>\n",
       "      <td>8.8</td>\n",
       "      <td>117129.0</td>\n",
       "    </tr>\n",
       "    <tr>\n",
       "      <th>2077</th>\n",
       "      <td>Kazuya Nakai</td>\n",
       "      <td>Roronoa Zoro (voice)</td>\n",
       "      <td>ACTOR</td>\n",
       "      <td>One Piece</td>\n",
       "      <td>SHOW</td>\n",
       "      <td>1999</td>\n",
       "      <td>['animation', 'action', 'comedy', 'drama', 'fa...</td>\n",
       "      <td>8.8</td>\n",
       "      <td>117129.0</td>\n",
       "    </tr>\n",
       "    <tr>\n",
       "      <th>2078</th>\n",
       "      <td>Akemi Okamura</td>\n",
       "      <td>Nami (voice)</td>\n",
       "      <td>ACTOR</td>\n",
       "      <td>One Piece</td>\n",
       "      <td>SHOW</td>\n",
       "      <td>1999</td>\n",
       "      <td>['animation', 'action', 'comedy', 'drama', 'fa...</td>\n",
       "      <td>8.8</td>\n",
       "      <td>117129.0</td>\n",
       "    </tr>\n",
       "    <tr>\n",
       "      <th>2079</th>\n",
       "      <td>Kappei Yamaguchi</td>\n",
       "      <td>Usopp (voice)</td>\n",
       "      <td>ACTOR</td>\n",
       "      <td>One Piece</td>\n",
       "      <td>SHOW</td>\n",
       "      <td>1999</td>\n",
       "      <td>['animation', 'action', 'comedy', 'drama', 'fa...</td>\n",
       "      <td>8.8</td>\n",
       "      <td>117129.0</td>\n",
       "    </tr>\n",
       "    <tr>\n",
       "      <th>2080</th>\n",
       "      <td>Hiroaki Hirata</td>\n",
       "      <td>Vinsmoke Sanji (voice)</td>\n",
       "      <td>ACTOR</td>\n",
       "      <td>One Piece</td>\n",
       "      <td>SHOW</td>\n",
       "      <td>1999</td>\n",
       "      <td>['animation', 'action', 'comedy', 'drama', 'fa...</td>\n",
       "      <td>8.8</td>\n",
       "      <td>117129.0</td>\n",
       "    </tr>\n",
       "    <tr>\n",
       "      <th>...</th>\n",
       "      <td>...</td>\n",
       "      <td>...</td>\n",
       "      <td>...</td>\n",
       "      <td>...</td>\n",
       "      <td>...</td>\n",
       "      <td>...</td>\n",
       "      <td>...</td>\n",
       "      <td>...</td>\n",
       "      <td>...</td>\n",
       "    </tr>\n",
       "    <tr>\n",
       "      <th>71830</th>\n",
       "      <td>Gianluca Gobbi</td>\n",
       "      <td>Luca</td>\n",
       "      <td>ACTOR</td>\n",
       "      <td>Devotion, a Story of Love and Desire</td>\n",
       "      <td>SHOW</td>\n",
       "      <td>2022</td>\n",
       "      <td>['drama', 'romance']</td>\n",
       "      <td>6.4</td>\n",
       "      <td>1500.0</td>\n",
       "    </tr>\n",
       "    <tr>\n",
       "      <th>71826</th>\n",
       "      <td>Alice Arcuri</td>\n",
       "      <td>Gioia</td>\n",
       "      <td>ACTOR</td>\n",
       "      <td>Devotion, a Story of Love and Desire</td>\n",
       "      <td>SHOW</td>\n",
       "      <td>2022</td>\n",
       "      <td>['drama', 'romance']</td>\n",
       "      <td>6.4</td>\n",
       "      <td>1500.0</td>\n",
       "    </tr>\n",
       "    <tr>\n",
       "      <th>71825</th>\n",
       "      <td>Leonardo Carradori</td>\n",
       "      <td>Lorenzo</td>\n",
       "      <td>ACTOR</td>\n",
       "      <td>Devotion, a Story of Love and Desire</td>\n",
       "      <td>SHOW</td>\n",
       "      <td>2022</td>\n",
       "      <td>['drama', 'romance']</td>\n",
       "      <td>6.4</td>\n",
       "      <td>1500.0</td>\n",
       "    </tr>\n",
       "    <tr>\n",
       "      <th>71823</th>\n",
       "      <td>Michele Riondino</td>\n",
       "      <td>Carlo Pentecoste</td>\n",
       "      <td>ACTOR</td>\n",
       "      <td>Devotion, a Story of Love and Desire</td>\n",
       "      <td>SHOW</td>\n",
       "      <td>2022</td>\n",
       "      <td>['drama', 'romance']</td>\n",
       "      <td>6.4</td>\n",
       "      <td>1500.0</td>\n",
       "    </tr>\n",
       "    <tr>\n",
       "      <th>71383</th>\n",
       "      <td>Kim Sang-ho</td>\n",
       "      <td>unknown</td>\n",
       "      <td>DIRECTOR</td>\n",
       "      <td>Thirty-Nine</td>\n",
       "      <td>SHOW</td>\n",
       "      <td>2022</td>\n",
       "      <td>['drama', 'romance']</td>\n",
       "      <td>7.9</td>\n",
       "      <td>150.0</td>\n",
       "    </tr>\n",
       "  </tbody>\n",
       "</table>\n",
       "<p>15082 rows × 9 columns</p>\n",
       "</div>"
      ],
      "text/plain": [
       "                     name                character      role  \\\n",
       "2076        Mayumi Tanaka  Monkey D. Luffy (voice)     ACTOR   \n",
       "2077         Kazuya Nakai     Roronoa Zoro (voice)     ACTOR   \n",
       "2078        Akemi Okamura             Nami (voice)     ACTOR   \n",
       "2079     Kappei Yamaguchi            Usopp (voice)     ACTOR   \n",
       "2080       Hiroaki Hirata   Vinsmoke Sanji (voice)     ACTOR   \n",
       "...                   ...                      ...       ...   \n",
       "71830      Gianluca Gobbi                     Luca     ACTOR   \n",
       "71826        Alice Arcuri                    Gioia     ACTOR   \n",
       "71825  Leonardo Carradori                  Lorenzo     ACTOR   \n",
       "71823    Michele Riondino         Carlo Pentecoste     ACTOR   \n",
       "71383         Kim Sang-ho                  unknown  DIRECTOR   \n",
       "\n",
       "                                      title  type  release_year  \\\n",
       "2076                              One Piece  SHOW          1999   \n",
       "2077                              One Piece  SHOW          1999   \n",
       "2078                              One Piece  SHOW          1999   \n",
       "2079                              One Piece  SHOW          1999   \n",
       "2080                              One Piece  SHOW          1999   \n",
       "...                                     ...   ...           ...   \n",
       "71830  Devotion, a Story of Love and Desire  SHOW          2022   \n",
       "71826  Devotion, a Story of Love and Desire  SHOW          2022   \n",
       "71825  Devotion, a Story of Love and Desire  SHOW          2022   \n",
       "71823  Devotion, a Story of Love and Desire  SHOW          2022   \n",
       "71383                           Thirty-Nine  SHOW          2022   \n",
       "\n",
       "                                                  genres  imdb_score  \\\n",
       "2076   ['animation', 'action', 'comedy', 'drama', 'fa...         8.8   \n",
       "2077   ['animation', 'action', 'comedy', 'drama', 'fa...         8.8   \n",
       "2078   ['animation', 'action', 'comedy', 'drama', 'fa...         8.8   \n",
       "2079   ['animation', 'action', 'comedy', 'drama', 'fa...         8.8   \n",
       "2080   ['animation', 'action', 'comedy', 'drama', 'fa...         8.8   \n",
       "...                                                  ...         ...   \n",
       "71830                               ['drama', 'romance']         6.4   \n",
       "71826                               ['drama', 'romance']         6.4   \n",
       "71825                               ['drama', 'romance']         6.4   \n",
       "71823                               ['drama', 'romance']         6.4   \n",
       "71383                               ['drama', 'romance']         7.9   \n",
       "\n",
       "       imdb_votes  \n",
       "2076     117129.0  \n",
       "2077     117129.0  \n",
       "2078     117129.0  \n",
       "2079     117129.0  \n",
       "2080     117129.0  \n",
       "...           ...  \n",
       "71830      1500.0  \n",
       "71826      1500.0  \n",
       "71825      1500.0  \n",
       "71823      1500.0  \n",
       "71383       150.0  \n",
       "\n",
       "[15082 rows x 9 columns]"
      ]
     },
     "execution_count": 57,
     "metadata": {},
     "output_type": "execute_result"
    }
   ],
   "source": [
    "# repeat conditional indexing so df has only shows (movies are removed as result)\n",
    "show_type_year = show_year[show_year['type'] == 'SHOW']\n",
    "show_type_year\n"
   ]
  },
  {
   "cell_type": "markdown",
   "id": "9648040c",
   "metadata": {},
   "source": [
    "The scores that are to be grouped should be rounded. For instance, titles with scores like 7.8, 8.1, and 8.3 will all be placed in the same bucket with a score of 8."
   ]
  },
  {
   "cell_type": "code",
   "execution_count": 58,
   "id": "54bbd5c0",
   "metadata": {},
   "outputs": [
    {
     "data": {
      "text/html": [
       "<div>\n",
       "<style scoped>\n",
       "    .dataframe tbody tr th:only-of-type {\n",
       "        vertical-align: middle;\n",
       "    }\n",
       "\n",
       "    .dataframe tbody tr th {\n",
       "        vertical-align: top;\n",
       "    }\n",
       "\n",
       "    .dataframe thead th {\n",
       "        text-align: right;\n",
       "    }\n",
       "</style>\n",
       "<table border=\"1\" class=\"dataframe\">\n",
       "  <thead>\n",
       "    <tr style=\"text-align: right;\">\n",
       "      <th></th>\n",
       "      <th>imdb_score</th>\n",
       "      <th>rounded_score</th>\n",
       "    </tr>\n",
       "  </thead>\n",
       "  <tbody>\n",
       "    <tr>\n",
       "      <th>2076</th>\n",
       "      <td>8.8</td>\n",
       "      <td>9.0</td>\n",
       "    </tr>\n",
       "    <tr>\n",
       "      <th>2077</th>\n",
       "      <td>8.8</td>\n",
       "      <td>9.0</td>\n",
       "    </tr>\n",
       "    <tr>\n",
       "      <th>2078</th>\n",
       "      <td>8.8</td>\n",
       "      <td>9.0</td>\n",
       "    </tr>\n",
       "    <tr>\n",
       "      <th>2079</th>\n",
       "      <td>8.8</td>\n",
       "      <td>9.0</td>\n",
       "    </tr>\n",
       "    <tr>\n",
       "      <th>2080</th>\n",
       "      <td>8.8</td>\n",
       "      <td>9.0</td>\n",
       "    </tr>\n",
       "  </tbody>\n",
       "</table>\n",
       "</div>"
      ],
      "text/plain": [
       "      imdb_score  rounded_score\n",
       "2076         8.8            9.0\n",
       "2077         8.8            9.0\n",
       "2078         8.8            9.0\n",
       "2079         8.8            9.0\n",
       "2080         8.8            9.0"
      ]
     },
     "execution_count": 58,
     "metadata": {},
     "output_type": "execute_result"
    }
   ],
   "source": [
    "# rounding column with scores\n",
    "show_type_year = show_type_year.copy()\n",
    "show_type_year.loc[:,'rounded_score'] = show_type_year['imdb_score'].round()\n",
    "show_type_year[['imdb_score', 'rounded_score']].head()"
   ]
  },
  {
   "cell_type": "markdown",
   "id": "36dbd00a",
   "metadata": {},
   "source": [
    "It is now time to identify outliers based on the number of votes."
   ]
  },
  {
   "cell_type": "code",
   "execution_count": 59,
   "id": "b8b55e95",
   "metadata": {},
   "outputs": [
    {
     "data": {
      "text/plain": [
       "rounded_score\n",
       "2.0       40\n",
       "3.0       27\n",
       "4.0      225\n",
       "5.0      691\n",
       "6.0     2986\n",
       "7.0     5322\n",
       "8.0     5200\n",
       "9.0      583\n",
       "10.0       8\n",
       "Name: imdb_score, dtype: int64"
      ]
     },
     "execution_count": 59,
     "metadata": {},
     "output_type": "execute_result"
    }
   ],
   "source": [
    "# Use groupby() for scores and count all unique values in each group, print the result\n",
    "grouped_scores = show_type_year.groupby('rounded_score')['imdb_score'].count()\n",
    "grouped_scores"
   ]
  },
  {
   "cell_type": "markdown",
   "id": "1ba6daae",
   "metadata": {},
   "source": [
    "Based on the aggregation performed, it is evident that scores 2 (24 voted shows), 3 (27 voted shows), and 10 (only 8 voted shows) are outliers. There isn't enough data for these scores for the average number of votes to be meaningful."
   ]
  },
  {
   "cell_type": "markdown",
   "id": "bd468c46",
   "metadata": {},
   "source": [
    "To obtain the mean numbers of votes for the selected scores (we identified a range of 4-9 as acceptable), use conditional filtering and grouping."
   ]
  },
  {
   "cell_type": "code",
   "execution_count": 60,
   "id": "d1867e0e",
   "metadata": {},
   "outputs": [
    {
     "data": {
      "text/html": [
       "<div>\n",
       "<style scoped>\n",
       "    .dataframe tbody tr th:only-of-type {\n",
       "        vertical-align: middle;\n",
       "    }\n",
       "\n",
       "    .dataframe tbody tr th {\n",
       "        vertical-align: top;\n",
       "    }\n",
       "\n",
       "    .dataframe thead th {\n",
       "        text-align: right;\n",
       "    }\n",
       "</style>\n",
       "<table border=\"1\" class=\"dataframe\">\n",
       "  <thead>\n",
       "    <tr style=\"text-align: right;\">\n",
       "      <th></th>\n",
       "      <th>rounded_score</th>\n",
       "      <th>imdb_votes</th>\n",
       "    </tr>\n",
       "  </thead>\n",
       "  <tbody>\n",
       "    <tr>\n",
       "      <th>0</th>\n",
       "      <td>4.0</td>\n",
       "      <td>6544.480000</td>\n",
       "    </tr>\n",
       "    <tr>\n",
       "      <th>1</th>\n",
       "      <td>5.0</td>\n",
       "      <td>2846.192475</td>\n",
       "    </tr>\n",
       "    <tr>\n",
       "      <th>2</th>\n",
       "      <td>6.0</td>\n",
       "      <td>3168.731413</td>\n",
       "    </tr>\n",
       "    <tr>\n",
       "      <th>3</th>\n",
       "      <td>7.0</td>\n",
       "      <td>8012.183953</td>\n",
       "    </tr>\n",
       "    <tr>\n",
       "      <th>4</th>\n",
       "      <td>8.0</td>\n",
       "      <td>28361.942115</td>\n",
       "    </tr>\n",
       "    <tr>\n",
       "      <th>5</th>\n",
       "      <td>9.0</td>\n",
       "      <td>121401.017153</td>\n",
       "    </tr>\n",
       "  </tbody>\n",
       "</table>\n",
       "</div>"
      ],
      "text/plain": [
       "   rounded_score     imdb_votes\n",
       "0            4.0    6544.480000\n",
       "1            5.0    2846.192475\n",
       "2            6.0    3168.731413\n",
       "3            7.0    8012.183953\n",
       "4            8.0   28361.942115\n",
       "5            9.0  121401.017153"
      ]
     },
     "execution_count": 60,
     "metadata": {},
     "output_type": "execute_result"
    }
   ],
   "source": [
    "# filter dataframe using two conditions (scores to be in the range 4-9)\n",
    "filtered_df = show_type_year[(show_type_year['rounded_score'] >= 4) & (show_type_year['rounded_score'] <= 9)]\n",
    "filtered_df.sort_values(by='rounded_score', ascending=True)\n",
    "\n",
    "\n",
    "# group scores and corresponding average number of votes, reset index and print the result\n",
    "grouped_votes = filtered_df.groupby('rounded_score')['imdb_votes'].mean().reset_index()\n",
    "grouped_votes\n",
    "\n",
    "\n"
   ]
  },
  {
   "cell_type": "markdown",
   "id": "8d5bda9c",
   "metadata": {},
   "source": [
    "Now for the final step! Round the column with the averages, rename both columns, and print the dataframe in descending order."
   ]
  },
  {
   "cell_type": "code",
   "execution_count": 61,
   "id": "746d0bcd",
   "metadata": {},
   "outputs": [
    {
     "data": {
      "text/html": [
       "<div>\n",
       "<style scoped>\n",
       "    .dataframe tbody tr th:only-of-type {\n",
       "        vertical-align: middle;\n",
       "    }\n",
       "\n",
       "    .dataframe tbody tr th {\n",
       "        vertical-align: top;\n",
       "    }\n",
       "\n",
       "    .dataframe thead th {\n",
       "        text-align: right;\n",
       "    }\n",
       "</style>\n",
       "<table border=\"1\" class=\"dataframe\">\n",
       "  <thead>\n",
       "    <tr style=\"text-align: right;\">\n",
       "      <th></th>\n",
       "      <th>score</th>\n",
       "      <th>average_votes</th>\n",
       "    </tr>\n",
       "  </thead>\n",
       "  <tbody>\n",
       "    <tr>\n",
       "      <th>5</th>\n",
       "      <td>9.0</td>\n",
       "      <td>121401.0</td>\n",
       "    </tr>\n",
       "    <tr>\n",
       "      <th>4</th>\n",
       "      <td>8.0</td>\n",
       "      <td>28362.0</td>\n",
       "    </tr>\n",
       "    <tr>\n",
       "      <th>3</th>\n",
       "      <td>7.0</td>\n",
       "      <td>8012.0</td>\n",
       "    </tr>\n",
       "    <tr>\n",
       "      <th>0</th>\n",
       "      <td>4.0</td>\n",
       "      <td>6544.0</td>\n",
       "    </tr>\n",
       "    <tr>\n",
       "      <th>2</th>\n",
       "      <td>6.0</td>\n",
       "      <td>3169.0</td>\n",
       "    </tr>\n",
       "    <tr>\n",
       "      <th>1</th>\n",
       "      <td>5.0</td>\n",
       "      <td>2846.0</td>\n",
       "    </tr>\n",
       "  </tbody>\n",
       "</table>\n",
       "</div>"
      ],
      "text/plain": [
       "   score  average_votes\n",
       "5    9.0       121401.0\n",
       "4    8.0        28362.0\n",
       "3    7.0         8012.0\n",
       "0    4.0         6544.0\n",
       "2    6.0         3169.0\n",
       "1    5.0         2846.0"
      ]
     },
     "execution_count": 61,
     "metadata": {},
     "output_type": "execute_result"
    }
   ],
   "source": [
    "# round column with averages\n",
    "grouped_votes['imdb_votes'] = grouped_votes['imdb_votes'].round()\n",
    "grouped_votes\n",
    "\n",
    "# rename columns\n",
    "grouped_votes = grouped_votes.rename(columns={'rounded_score': 'score', 'imdb_votes': 'average_votes'})\n",
    "grouped_votes\n",
    "\n",
    "# print dataframe in descending order\n",
    "grouped_votes = grouped_votes.sort_values(by='average_votes', ascending=False)\n",
    "grouped_votes\n"
   ]
  },
  {
   "cell_type": "markdown",
   "id": "af07386d",
   "metadata": {},
   "source": [
    "The assumption macthes the analysis: the shows with the top 3 scores have the most amounts of votes."
   ]
  },
  {
   "cell_type": "markdown",
   "id": "84e29a37",
   "metadata": {},
   "source": [
    "## Conclusion <a id='hypotheses'></a>"
   ]
  },
  {
   "cell_type": "markdown",
   "id": "984766a3",
   "metadata": {},
   "source": [
    "The research done confirms that highly-rated shows released during the \"Golden Age\" of television also have the most votes. While shows with score 4 have more votes than ones with scores 5 and 6, the top three (scores 7-9) have the largest number. The data studied represents around 94% of the original set, so we can be confident in our findings."
   ]
  }
 ],
 "metadata": {
  "ExecuteTimeLog": [
   {
    "duration": 588,
    "start_time": "2024-07-14T15:55:02.505Z"
   },
   {
    "duration": 271,
    "start_time": "2024-07-14T15:55:28.025Z"
   },
   {
    "duration": 24,
    "start_time": "2024-07-14T15:55:38.778Z"
   },
   {
    "duration": 53,
    "start_time": "2024-07-14T15:58:22.902Z"
   },
   {
    "duration": 8,
    "start_time": "2024-07-14T16:02:39.642Z"
   },
   {
    "duration": 8,
    "start_time": "2024-07-14T16:13:14.971Z"
   },
   {
    "duration": 12,
    "start_time": "2024-07-14T16:14:23.080Z"
   },
   {
    "duration": 11,
    "start_time": "2024-07-14T16:15:27.492Z"
   },
   {
    "duration": 18,
    "start_time": "2024-07-14T16:17:38.333Z"
   },
   {
    "duration": 10,
    "start_time": "2024-07-14T16:18:27.341Z"
   },
   {
    "duration": 13,
    "start_time": "2024-07-14T16:19:30.272Z"
   },
   {
    "duration": 12,
    "start_time": "2024-07-14T16:21:35.991Z"
   },
   {
    "duration": 8,
    "start_time": "2024-07-14T16:21:39.401Z"
   },
   {
    "duration": 386,
    "start_time": "2024-07-14T16:23:28.549Z"
   },
   {
    "duration": 29,
    "start_time": "2024-07-14T16:24:18.738Z"
   },
   {
    "duration": 36,
    "start_time": "2024-07-14T16:24:46.723Z"
   },
   {
    "duration": 46,
    "start_time": "2024-07-14T16:27:36.738Z"
   },
   {
    "duration": 31,
    "start_time": "2024-07-14T16:27:47.739Z"
   },
   {
    "duration": 77,
    "start_time": "2024-07-14T16:28:08.458Z"
   },
   {
    "duration": 83,
    "start_time": "2024-07-14T16:29:31.077Z"
   },
   {
    "duration": 90,
    "start_time": "2024-07-14T16:30:03.458Z"
   },
   {
    "duration": 23,
    "start_time": "2024-07-14T16:31:01.560Z"
   },
   {
    "duration": 4,
    "start_time": "2024-07-14T16:33:15.476Z"
   },
   {
    "duration": 23,
    "start_time": "2024-07-14T16:33:24.425Z"
   },
   {
    "duration": 18,
    "start_time": "2024-07-14T16:33:47.029Z"
   },
   {
    "duration": 16,
    "start_time": "2024-07-14T16:34:46.440Z"
   },
   {
    "duration": 37,
    "start_time": "2024-07-14T16:34:50.405Z"
   },
   {
    "duration": 17,
    "start_time": "2024-07-14T16:34:55.572Z"
   },
   {
    "duration": 89,
    "start_time": "2024-07-14T16:43:33.283Z"
   },
   {
    "duration": 102,
    "start_time": "2024-07-14T16:49:53.653Z"
   },
   {
    "duration": 607,
    "start_time": "2024-07-14T16:50:41.662Z"
   },
   {
    "duration": 98,
    "start_time": "2024-07-14T16:50:57.970Z"
   },
   {
    "duration": 100,
    "start_time": "2024-07-14T16:51:05.442Z"
   },
   {
    "duration": 98,
    "start_time": "2024-07-14T16:51:26.038Z"
   },
   {
    "duration": 102,
    "start_time": "2024-07-14T16:54:35.665Z"
   },
   {
    "duration": 17,
    "start_time": "2024-07-14T17:04:59.644Z"
   },
   {
    "duration": 24,
    "start_time": "2024-07-14T17:05:21.520Z"
   },
   {
    "duration": 20,
    "start_time": "2024-07-14T17:10:56.969Z"
   },
   {
    "duration": 24,
    "start_time": "2024-07-14T17:12:54.226Z"
   },
   {
    "duration": 4,
    "start_time": "2024-07-14T17:13:23.059Z"
   },
   {
    "duration": 440,
    "start_time": "2024-07-14T17:13:31.773Z"
   },
   {
    "duration": 22,
    "start_time": "2024-07-14T17:14:40.667Z"
   },
   {
    "duration": 81,
    "start_time": "2024-07-14T17:15:30.917Z"
   },
   {
    "duration": 73,
    "start_time": "2024-07-14T17:15:42.676Z"
   },
   {
    "duration": 75,
    "start_time": "2024-07-14T17:16:24.252Z"
   },
   {
    "duration": 72,
    "start_time": "2024-07-14T17:16:36.310Z"
   },
   {
    "duration": 6,
    "start_time": "2024-07-14T17:16:46.081Z"
   },
   {
    "duration": 72,
    "start_time": "2024-07-14T17:21:05.404Z"
   },
   {
    "duration": 73,
    "start_time": "2024-07-14T17:21:15.060Z"
   },
   {
    "duration": 73,
    "start_time": "2024-07-14T17:21:24.265Z"
   },
   {
    "duration": 72,
    "start_time": "2024-07-14T17:24:47.822Z"
   },
   {
    "duration": 78,
    "start_time": "2024-07-14T17:25:49.868Z"
   },
   {
    "duration": 145,
    "start_time": "2024-07-14T17:25:54.667Z"
   },
   {
    "duration": 11,
    "start_time": "2024-07-14T17:32:39.894Z"
   },
   {
    "duration": 8,
    "start_time": "2024-07-14T17:43:54.223Z"
   },
   {
    "duration": 4,
    "start_time": "2024-07-14T17:44:31.438Z"
   },
   {
    "duration": 12,
    "start_time": "2024-07-14T17:50:04.022Z"
   },
   {
    "duration": 29,
    "start_time": "2024-07-14T17:50:13.350Z"
   },
   {
    "duration": 35,
    "start_time": "2024-07-14T17:50:33.607Z"
   },
   {
    "duration": 13,
    "start_time": "2024-07-14T17:50:36.672Z"
   },
   {
    "duration": 10,
    "start_time": "2024-07-14T17:50:52.305Z"
   },
   {
    "duration": 10,
    "start_time": "2024-07-14T17:51:12.566Z"
   },
   {
    "duration": 10,
    "start_time": "2024-07-14T17:53:17.444Z"
   },
   {
    "duration": 20,
    "start_time": "2024-07-14T17:53:19.719Z"
   },
   {
    "duration": 18,
    "start_time": "2024-07-14T17:53:50.021Z"
   },
   {
    "duration": 11,
    "start_time": "2024-07-14T17:53:52.684Z"
   },
   {
    "duration": 10,
    "start_time": "2024-07-14T17:54:17.667Z"
   },
   {
    "duration": 9,
    "start_time": "2024-07-14T17:56:25.490Z"
   },
   {
    "duration": 10,
    "start_time": "2024-07-14T17:56:31.573Z"
   },
   {
    "duration": 10,
    "start_time": "2024-07-14T17:56:40.883Z"
   },
   {
    "duration": 9,
    "start_time": "2024-07-14T17:56:47.479Z"
   },
   {
    "duration": 6,
    "start_time": "2024-07-14T17:56:58.456Z"
   },
   {
    "duration": 101,
    "start_time": "2024-07-14T17:58:10.458Z"
   },
   {
    "duration": 29,
    "start_time": "2024-07-14T17:58:16.305Z"
   },
   {
    "duration": 13,
    "start_time": "2024-07-14T17:58:25.647Z"
   },
   {
    "duration": 23,
    "start_time": "2024-07-14T18:06:22.635Z"
   },
   {
    "duration": 16,
    "start_time": "2024-07-14T18:17:02.923Z"
   },
   {
    "duration": 6,
    "start_time": "2024-07-14T18:17:41.280Z"
   },
   {
    "duration": 46,
    "start_time": "2024-07-14T18:19:07.202Z"
   },
   {
    "duration": 23,
    "start_time": "2024-07-14T18:19:34.277Z"
   },
   {
    "duration": 25,
    "start_time": "2024-07-14T18:19:50.999Z"
   },
   {
    "duration": 3,
    "start_time": "2024-07-14T18:21:07.716Z"
   },
   {
    "duration": 22,
    "start_time": "2024-07-14T18:21:24.972Z"
   },
   {
    "duration": 6,
    "start_time": "2024-07-14T18:23:20.255Z"
   },
   {
    "duration": 5,
    "start_time": "2024-07-14T18:24:58.755Z"
   },
   {
    "duration": 4,
    "start_time": "2024-07-14T18:25:10.482Z"
   },
   {
    "duration": 24,
    "start_time": "2024-07-14T18:26:43.178Z"
   },
   {
    "duration": 7,
    "start_time": "2024-07-14T18:34:20.156Z"
   },
   {
    "duration": 6,
    "start_time": "2024-07-14T18:34:30.562Z"
   },
   {
    "duration": 6,
    "start_time": "2024-07-14T18:35:05.562Z"
   },
   {
    "duration": 24,
    "start_time": "2024-07-14T18:35:14.132Z"
   },
   {
    "duration": 8,
    "start_time": "2024-07-14T18:48:59.820Z"
   },
   {
    "duration": 6,
    "start_time": "2024-07-14T18:55:54.281Z"
   },
   {
    "duration": 42,
    "start_time": "2024-07-14T18:56:21.182Z"
   },
   {
    "duration": 34,
    "start_time": "2024-07-14T18:56:26.761Z"
   },
   {
    "duration": 10,
    "start_time": "2024-07-14T18:56:56.387Z"
   },
   {
    "duration": 3,
    "start_time": "2024-07-14T18:57:09.849Z"
   },
   {
    "duration": 102,
    "start_time": "2024-07-14T18:57:43.310Z"
   },
   {
    "duration": 89,
    "start_time": "2024-07-14T18:59:11.204Z"
   },
   {
    "duration": 5,
    "start_time": "2024-07-14T18:59:16.991Z"
   },
   {
    "duration": 74,
    "start_time": "2024-07-14T19:02:01.559Z"
   },
   {
    "duration": 8,
    "start_time": "2024-07-14T19:03:16.749Z"
   },
   {
    "duration": 11,
    "start_time": "2024-07-14T19:03:25.751Z"
   },
   {
    "duration": 27,
    "start_time": "2024-07-14T19:03:35.660Z"
   },
   {
    "duration": 56,
    "start_time": "2024-07-14T19:03:46.050Z"
   },
   {
    "duration": 76,
    "start_time": "2024-07-14T19:03:52.210Z"
   },
   {
    "duration": 13,
    "start_time": "2024-07-15T03:00:53.056Z"
   },
   {
    "duration": 315,
    "start_time": "2024-07-15T03:01:06.232Z"
   },
   {
    "duration": 22,
    "start_time": "2024-07-15T03:01:34.586Z"
   },
   {
    "duration": 20,
    "start_time": "2024-07-15T03:01:45.463Z"
   },
   {
    "duration": 20,
    "start_time": "2024-07-15T03:01:59.411Z"
   },
   {
    "duration": 26,
    "start_time": "2024-07-15T03:02:11.766Z"
   },
   {
    "duration": 20,
    "start_time": "2024-07-15T03:02:26.015Z"
   },
   {
    "duration": 427,
    "start_time": "2024-07-15T03:02:29.266Z"
   },
   {
    "duration": 234,
    "start_time": "2024-07-15T03:02:34.411Z"
   },
   {
    "duration": 24,
    "start_time": "2024-07-15T03:02:38.746Z"
   },
   {
    "duration": 35,
    "start_time": "2024-07-15T03:02:41.124Z"
   },
   {
    "duration": 34,
    "start_time": "2024-07-15T03:02:47.711Z"
   },
   {
    "duration": 56,
    "start_time": "2024-07-15T03:03:19.723Z"
   },
   {
    "duration": 22,
    "start_time": "2024-07-15T03:03:27.514Z"
   },
   {
    "duration": 722,
    "start_time": "2024-07-15T03:03:32.729Z"
   },
   {
    "duration": 34,
    "start_time": "2024-07-15T03:03:44.874Z"
   },
   {
    "duration": 22,
    "start_time": "2024-07-15T03:03:50.641Z"
   },
   {
    "duration": 17,
    "start_time": "2024-07-15T03:04:37.521Z"
   },
   {
    "duration": 6,
    "start_time": "2024-07-15T03:04:40.224Z"
   },
   {
    "duration": 59,
    "start_time": "2024-07-15T03:04:46.966Z"
   },
   {
    "duration": 66,
    "start_time": "2024-07-15T03:04:58.288Z"
   },
   {
    "duration": 33,
    "start_time": "2024-07-15T03:05:09.197Z"
   },
   {
    "duration": 23,
    "start_time": "2024-07-15T03:05:13.711Z"
   },
   {
    "duration": 24,
    "start_time": "2024-07-15T03:05:28.839Z"
   },
   {
    "duration": 6,
    "start_time": "2024-07-15T03:05:43.833Z"
   },
   {
    "duration": 23,
    "start_time": "2024-07-15T03:05:53.226Z"
   },
   {
    "duration": 55,
    "start_time": "2024-07-15T03:06:12.569Z"
   },
   {
    "duration": 48,
    "start_time": "2024-07-15T03:06:16.437Z"
   },
   {
    "duration": 22,
    "start_time": "2024-07-15T03:06:41.657Z"
   },
   {
    "duration": 24,
    "start_time": "2024-07-15T03:06:47.598Z"
   },
   {
    "duration": 22,
    "start_time": "2024-07-15T03:06:58.253Z"
   },
   {
    "duration": 3,
    "start_time": "2024-07-15T03:07:47.228Z"
   },
   {
    "duration": 6,
    "start_time": "2024-07-15T03:07:54.358Z"
   },
   {
    "duration": 22,
    "start_time": "2024-07-15T03:08:07.033Z"
   },
   {
    "duration": 5,
    "start_time": "2024-07-15T03:10:53.319Z"
   },
   {
    "duration": 21,
    "start_time": "2024-07-15T03:11:04.455Z"
   },
   {
    "duration": 25,
    "start_time": "2024-07-15T03:14:22.378Z"
   },
   {
    "duration": 23,
    "start_time": "2024-07-15T03:14:46.497Z"
   },
   {
    "duration": 22,
    "start_time": "2024-07-15T03:15:15.334Z"
   },
   {
    "duration": 8,
    "start_time": "2024-07-15T03:15:21.137Z"
   },
   {
    "duration": 15,
    "start_time": "2024-07-15T03:15:32.145Z"
   },
   {
    "duration": 29,
    "start_time": "2024-07-15T03:15:43.709Z"
   },
   {
    "duration": 7,
    "start_time": "2024-07-15T03:15:50.513Z"
   },
   {
    "duration": 24,
    "start_time": "2024-07-15T03:15:56.252Z"
   },
   {
    "duration": 31,
    "start_time": "2024-07-15T03:16:09.495Z"
   },
   {
    "duration": 24,
    "start_time": "2024-07-15T03:16:16.744Z"
   },
   {
    "duration": 30,
    "start_time": "2024-07-15T03:16:24.873Z"
   },
   {
    "duration": 37,
    "start_time": "2024-07-15T03:16:59.819Z"
   },
   {
    "duration": 53,
    "start_time": "2024-07-15T03:18:24.847Z"
   },
   {
    "duration": 44,
    "start_time": "2024-07-15T03:18:36.997Z"
   },
   {
    "duration": 44,
    "start_time": "2024-07-15T03:25:48.749Z"
   },
   {
    "duration": 575,
    "start_time": "2024-07-15T03:27:31.710Z"
   },
   {
    "duration": 3,
    "start_time": "2024-07-15T03:28:26.682Z"
   },
   {
    "duration": 22,
    "start_time": "2024-07-15T03:28:31.304Z"
   },
   {
    "duration": 6,
    "start_time": "2024-07-15T03:29:24.145Z"
   },
   {
    "duration": 11,
    "start_time": "2024-07-15T03:29:28.032Z"
   },
   {
    "duration": 11,
    "start_time": "2024-07-15T03:29:45.799Z"
   },
   {
    "duration": 22,
    "start_time": "2024-07-15T03:29:53.971Z"
   },
   {
    "duration": 10,
    "start_time": "2024-07-15T03:30:06.701Z"
   },
   {
    "duration": 72,
    "start_time": "2024-07-15T03:30:41.534Z"
   },
   {
    "duration": 29,
    "start_time": "2024-07-15T03:30:58.336Z"
   },
   {
    "duration": 46,
    "start_time": "2024-07-15T03:31:30.285Z"
   },
   {
    "duration": 39,
    "start_time": "2024-07-15T03:31:59.504Z"
   },
   {
    "duration": 64,
    "start_time": "2024-07-15T03:32:02.820Z"
   },
   {
    "duration": 53,
    "start_time": "2024-07-15T03:32:32.639Z"
   },
   {
    "duration": 45,
    "start_time": "2024-07-15T03:33:45.154Z"
   },
   {
    "duration": 31,
    "start_time": "2024-07-15T03:33:58.540Z"
   },
   {
    "duration": 8,
    "start_time": "2024-07-15T03:36:25.962Z"
   },
   {
    "duration": 23,
    "start_time": "2024-07-15T03:36:59.942Z"
   },
   {
    "duration": 25,
    "start_time": "2024-07-15T03:37:29.229Z"
   },
   {
    "duration": 30,
    "start_time": "2024-07-15T03:38:11.988Z"
   },
   {
    "duration": 9,
    "start_time": "2024-07-15T03:39:08.480Z"
   },
   {
    "duration": 10,
    "start_time": "2024-07-15T03:39:19.394Z"
   },
   {
    "duration": 9,
    "start_time": "2024-07-15T03:39:37.002Z"
   },
   {
    "duration": 34,
    "start_time": "2024-07-15T03:40:16.313Z"
   },
   {
    "duration": 54,
    "start_time": "2024-07-15T03:40:23.305Z"
   },
   {
    "duration": 9,
    "start_time": "2024-07-15T03:40:28.995Z"
   },
   {
    "duration": 9,
    "start_time": "2024-07-15T03:40:31.148Z"
   },
   {
    "duration": 36,
    "start_time": "2024-07-15T03:40:46.156Z"
   },
   {
    "duration": 53,
    "start_time": "2024-07-15T03:40:47.164Z"
   },
   {
    "duration": 71,
    "start_time": "2024-07-15T03:40:48.093Z"
   },
   {
    "duration": 81,
    "start_time": "2024-07-15T03:40:49.095Z"
   },
   {
    "duration": 17,
    "start_time": "2024-07-15T03:40:49.602Z"
   },
   {
    "duration": 15,
    "start_time": "2024-07-15T03:40:49.945Z"
   },
   {
    "duration": 11,
    "start_time": "2024-07-15T03:40:50.458Z"
   },
   {
    "duration": 4,
    "start_time": "2024-07-15T03:40:50.778Z"
   },
   {
    "duration": 20,
    "start_time": "2024-07-15T03:40:51.098Z"
   },
   {
    "duration": 60,
    "start_time": "2024-07-15T03:40:51.450Z"
   },
   {
    "duration": 51,
    "start_time": "2024-07-15T03:40:52.283Z"
   },
   {
    "duration": 29,
    "start_time": "2024-07-15T03:40:52.685Z"
   },
   {
    "duration": 10,
    "start_time": "2024-07-15T03:40:53.126Z"
   },
   {
    "duration": 23,
    "start_time": "2024-07-15T03:41:31.177Z"
   },
   {
    "duration": 18,
    "start_time": "2024-07-15T03:43:07.361Z"
   },
   {
    "duration": 18,
    "start_time": "2024-07-15T03:43:16.060Z"
   },
   {
    "duration": 7,
    "start_time": "2024-07-15T03:43:27.723Z"
   },
   {
    "duration": 244,
    "start_time": "2024-07-15T04:26:39.237Z"
   },
   {
    "duration": 94,
    "start_time": "2024-07-15T04:30:15.269Z"
   },
   {
    "duration": 79,
    "start_time": "2024-07-15T04:31:05.315Z"
   },
   {
    "duration": 10,
    "start_time": "2024-07-15T04:32:52.463Z"
   },
   {
    "duration": 81,
    "start_time": "2024-07-15T04:37:07.583Z"
   },
   {
    "duration": 94,
    "start_time": "2024-07-15T04:37:27.754Z"
   },
   {
    "duration": 246,
    "start_time": "2024-07-15T04:38:51.229Z"
   },
   {
    "duration": 8,
    "start_time": "2024-07-15T04:39:02.509Z"
   },
   {
    "duration": 6,
    "start_time": "2024-07-15T04:39:16.814Z"
   },
   {
    "duration": 6,
    "start_time": "2024-07-15T04:39:23.085Z"
   },
   {
    "duration": 81,
    "start_time": "2024-07-15T04:39:42.902Z"
   },
   {
    "duration": 3,
    "start_time": "2024-07-15T04:39:53.052Z"
   },
   {
    "duration": 21,
    "start_time": "2024-07-15T04:43:09.907Z"
   },
   {
    "duration": 7,
    "start_time": "2024-07-15T04:43:38.231Z"
   },
   {
    "duration": 10,
    "start_time": "2024-07-15T04:43:47.655Z"
   },
   {
    "duration": 169,
    "start_time": "2024-07-15T04:58:16.746Z"
   },
   {
    "duration": 183,
    "start_time": "2024-07-15T05:01:03.731Z"
   },
   {
    "duration": 92,
    "start_time": "2024-07-15T05:01:49.390Z"
   },
   {
    "duration": 98,
    "start_time": "2024-07-15T05:02:41.776Z"
   },
   {
    "duration": 9,
    "start_time": "2024-07-15T05:06:58.331Z"
   },
   {
    "duration": 15,
    "start_time": "2024-07-15T05:07:05.826Z"
   },
   {
    "duration": 42,
    "start_time": "2024-07-15T05:19:42.713Z"
   },
   {
    "duration": 350,
    "start_time": "2024-07-15T05:23:46.012Z"
   },
   {
    "duration": 8,
    "start_time": "2024-07-15T05:24:05.845Z"
   },
   {
    "duration": 12,
    "start_time": "2024-07-15T05:24:18.004Z"
   },
   {
    "duration": 84,
    "start_time": "2024-07-15T05:27:17.861Z"
   },
   {
    "duration": 9,
    "start_time": "2024-07-15T05:33:37.556Z"
   },
   {
    "duration": 34,
    "start_time": "2024-07-15T05:35:10.370Z"
   },
   {
    "duration": 12,
    "start_time": "2024-07-15T05:36:40.059Z"
   },
   {
    "duration": 11,
    "start_time": "2024-07-15T05:37:22.421Z"
   },
   {
    "duration": 12,
    "start_time": "2024-07-15T05:37:35.707Z"
   },
   {
    "duration": 12,
    "start_time": "2024-07-15T05:37:39.572Z"
   },
   {
    "duration": 30,
    "start_time": "2024-07-15T05:38:05.032Z"
   },
   {
    "duration": 3,
    "start_time": "2024-07-15T05:39:10.922Z"
   },
   {
    "duration": 29,
    "start_time": "2024-07-15T05:39:28.746Z"
   },
   {
    "duration": 3,
    "start_time": "2024-07-15T05:39:37.036Z"
   },
   {
    "duration": 31,
    "start_time": "2024-07-15T05:39:42.644Z"
   },
   {
    "duration": 8,
    "start_time": "2024-07-15T05:40:58.195Z"
   },
   {
    "duration": 11,
    "start_time": "2024-07-15T05:41:10.011Z"
   },
   {
    "duration": 11,
    "start_time": "2024-07-15T05:41:15.643Z"
   },
   {
    "duration": 3,
    "start_time": "2024-07-15T05:41:27.731Z"
   },
   {
    "duration": 10,
    "start_time": "2024-07-15T05:41:30.370Z"
   },
   {
    "duration": 76,
    "start_time": "2024-07-15T05:47:50.792Z"
   },
   {
    "duration": 9,
    "start_time": "2024-07-15T05:50:25.166Z"
   },
   {
    "duration": 12,
    "start_time": "2024-07-15T05:50:26.493Z"
   },
   {
    "duration": 76,
    "start_time": "2024-07-15T05:50:27.609Z"
   },
   {
    "duration": 75,
    "start_time": "2024-07-15T05:50:38.190Z"
   },
   {
    "duration": 10,
    "start_time": "2024-07-15T05:52:03.359Z"
   },
   {
    "duration": 6,
    "start_time": "2024-07-15T05:54:35.247Z"
   },
   {
    "duration": 8,
    "start_time": "2024-07-15T05:54:56.124Z"
   },
   {
    "duration": 75,
    "start_time": "2024-07-15T05:55:50.476Z"
   },
   {
    "duration": 3,
    "start_time": "2024-07-15T05:56:16.103Z"
   },
   {
    "duration": 197,
    "start_time": "2024-07-15T05:56:16.353Z"
   },
   {
    "duration": 18,
    "start_time": "2024-07-15T05:56:16.587Z"
   },
   {
    "duration": 34,
    "start_time": "2024-07-15T05:56:16.859Z"
   },
   {
    "duration": 5,
    "start_time": "2024-07-15T05:56:17.352Z"
   },
   {
    "duration": 8,
    "start_time": "2024-07-15T05:56:17.627Z"
   },
   {
    "duration": 6,
    "start_time": "2024-07-15T05:56:17.875Z"
   },
   {
    "duration": 28,
    "start_time": "2024-07-15T05:56:18.099Z"
   },
   {
    "duration": 38,
    "start_time": "2024-07-15T05:56:18.364Z"
   },
   {
    "duration": 54,
    "start_time": "2024-07-15T05:56:18.812Z"
   },
   {
    "duration": 75,
    "start_time": "2024-07-15T05:56:18.913Z"
   },
   {
    "duration": 82,
    "start_time": "2024-07-15T05:56:19.129Z"
   },
   {
    "duration": 18,
    "start_time": "2024-07-15T05:56:19.442Z"
   },
   {
    "duration": 19,
    "start_time": "2024-07-15T05:56:19.829Z"
   },
   {
    "duration": 12,
    "start_time": "2024-07-15T05:56:20.243Z"
   },
   {
    "duration": 5,
    "start_time": "2024-07-15T05:56:20.487Z"
   },
   {
    "duration": 21,
    "start_time": "2024-07-15T05:56:20.747Z"
   },
   {
    "duration": 61,
    "start_time": "2024-07-15T05:56:21.027Z"
   },
   {
    "duration": 42,
    "start_time": "2024-07-15T05:56:21.794Z"
   },
   {
    "duration": 33,
    "start_time": "2024-07-15T05:56:21.915Z"
   },
   {
    "duration": 8,
    "start_time": "2024-07-15T05:56:22.577Z"
   },
   {
    "duration": 10,
    "start_time": "2024-07-15T05:56:23.602Z"
   },
   {
    "duration": 75,
    "start_time": "2024-07-15T05:56:35.860Z"
   },
   {
    "duration": 6,
    "start_time": "2024-07-15T05:57:06.953Z"
   },
   {
    "duration": 77,
    "start_time": "2024-07-15T06:01:52.125Z"
   },
   {
    "duration": 14,
    "start_time": "2024-07-15T06:02:02.107Z"
   },
   {
    "duration": 5,
    "start_time": "2024-07-15T06:03:24.172Z"
   },
   {
    "duration": 25,
    "start_time": "2024-07-15T06:04:19.303Z"
   },
   {
    "duration": 235,
    "start_time": "2024-07-15T06:04:30.978Z"
   },
   {
    "duration": 16,
    "start_time": "2024-07-15T06:04:38.514Z"
   },
   {
    "duration": 15,
    "start_time": "2024-07-15T06:05:04.369Z"
   },
   {
    "duration": 8,
    "start_time": "2024-07-15T06:05:56.446Z"
   },
   {
    "duration": 31,
    "start_time": "2024-07-15T06:06:03.054Z"
   },
   {
    "duration": 26,
    "start_time": "2024-07-15T06:06:22.368Z"
   },
   {
    "duration": 34,
    "start_time": "2024-07-15T06:06:41.679Z"
   },
   {
    "duration": 35,
    "start_time": "2024-07-15T06:06:50.356Z"
   },
   {
    "duration": 22,
    "start_time": "2024-07-15T06:07:25.088Z"
   },
   {
    "duration": 7,
    "start_time": "2024-07-15T06:09:09.824Z"
   },
   {
    "duration": 6,
    "start_time": "2024-07-15T06:15:31.669Z"
   },
   {
    "duration": 76,
    "start_time": "2024-07-15T06:15:36.944Z"
   },
   {
    "duration": 79,
    "start_time": "2024-07-15T06:17:26.058Z"
   },
   {
    "duration": 72,
    "start_time": "2024-07-15T06:17:30.590Z"
   },
   {
    "duration": 6,
    "start_time": "2024-07-15T06:22:55.165Z"
   },
   {
    "duration": 7,
    "start_time": "2024-07-15T06:23:16.241Z"
   },
   {
    "duration": 6,
    "start_time": "2024-07-15T06:23:23.524Z"
   },
   {
    "duration": 74,
    "start_time": "2024-07-15T06:23:30.690Z"
   },
   {
    "duration": 73,
    "start_time": "2024-07-15T06:24:36.596Z"
   },
   {
    "duration": 24,
    "start_time": "2024-07-15T06:24:40.835Z"
   },
   {
    "duration": 6,
    "start_time": "2024-07-15T06:24:41.681Z"
   },
   {
    "duration": 4,
    "start_time": "2024-07-15T06:24:42.180Z"
   },
   {
    "duration": 5,
    "start_time": "2024-07-15T06:25:06.791Z"
   },
   {
    "duration": 6,
    "start_time": "2024-07-15T06:25:17.123Z"
   },
   {
    "duration": 6,
    "start_time": "2024-07-15T06:25:43.800Z"
   },
   {
    "duration": 198,
    "start_time": "2024-07-15T06:25:54.001Z"
   },
   {
    "duration": 18,
    "start_time": "2024-07-15T06:25:54.324Z"
   },
   {
    "duration": 36,
    "start_time": "2024-07-15T06:25:54.562Z"
   },
   {
    "duration": 5,
    "start_time": "2024-07-15T06:25:55.156Z"
   },
   {
    "duration": 8,
    "start_time": "2024-07-15T06:25:55.430Z"
   },
   {
    "duration": 5,
    "start_time": "2024-07-15T06:25:55.671Z"
   },
   {
    "duration": 29,
    "start_time": "2024-07-15T06:25:55.933Z"
   },
   {
    "duration": 38,
    "start_time": "2024-07-15T06:25:56.190Z"
   },
   {
    "duration": 60,
    "start_time": "2024-07-15T06:25:56.437Z"
   },
   {
    "duration": 70,
    "start_time": "2024-07-15T06:25:56.704Z"
   },
   {
    "duration": 81,
    "start_time": "2024-07-15T06:25:56.966Z"
   },
   {
    "duration": 18,
    "start_time": "2024-07-15T06:25:57.244Z"
   },
   {
    "duration": 15,
    "start_time": "2024-07-15T06:25:57.500Z"
   },
   {
    "duration": 11,
    "start_time": "2024-07-15T06:25:57.882Z"
   },
   {
    "duration": 5,
    "start_time": "2024-07-15T06:25:58.126Z"
   },
   {
    "duration": 27,
    "start_time": "2024-07-15T06:25:58.362Z"
   },
   {
    "duration": 61,
    "start_time": "2024-07-15T06:25:58.646Z"
   },
   {
    "duration": 48,
    "start_time": "2024-07-15T06:25:59.304Z"
   },
   {
    "duration": 31,
    "start_time": "2024-07-15T06:25:59.430Z"
   },
   {
    "duration": 14,
    "start_time": "2024-07-15T06:25:59.712Z"
   },
   {
    "duration": 11,
    "start_time": "2024-07-15T06:26:00.557Z"
   },
   {
    "duration": 22,
    "start_time": "2024-07-15T06:26:01.382Z"
   },
   {
    "duration": 5,
    "start_time": "2024-07-15T06:26:01.514Z"
   },
   {
    "duration": 5,
    "start_time": "2024-07-15T06:26:01.651Z"
   },
   {
    "duration": 4,
    "start_time": "2024-07-15T06:26:34.445Z"
   },
   {
    "duration": 7,
    "start_time": "2024-07-15T06:26:48.122Z"
   },
   {
    "duration": 10,
    "start_time": "2024-07-15T06:26:58.051Z"
   },
   {
    "duration": 7,
    "start_time": "2024-07-15T06:27:23.063Z"
   },
   {
    "duration": 25,
    "start_time": "2024-07-15T06:28:29.420Z"
   },
   {
    "duration": 76,
    "start_time": "2024-07-15T06:28:36.333Z"
   },
   {
    "duration": 76,
    "start_time": "2024-07-15T06:28:54.899Z"
   },
   {
    "duration": 72,
    "start_time": "2024-07-15T06:29:06.932Z"
   },
   {
    "duration": 70,
    "start_time": "2024-07-15T06:29:13.479Z"
   },
   {
    "duration": 80,
    "start_time": "2024-07-15T06:29:21.769Z"
   },
   {
    "duration": 21,
    "start_time": "2024-07-15T06:29:26.600Z"
   },
   {
    "duration": 5,
    "start_time": "2024-07-15T06:29:27.650Z"
   },
   {
    "duration": 11,
    "start_time": "2024-07-15T06:29:28.423Z"
   },
   {
    "duration": 12,
    "start_time": "2024-07-15T06:29:35.377Z"
   },
   {
    "duration": 74,
    "start_time": "2024-07-15T06:30:43.238Z"
   },
   {
    "duration": 21,
    "start_time": "2024-07-15T06:31:04.893Z"
   },
   {
    "duration": 6,
    "start_time": "2024-07-15T06:31:05.434Z"
   },
   {
    "duration": 14,
    "start_time": "2024-07-15T06:31:05.979Z"
   },
   {
    "duration": 473,
    "start_time": "2024-07-15T18:12:53.794Z"
   },
   {
    "duration": 215,
    "start_time": "2024-07-15T18:12:54.270Z"
   },
   {
    "duration": 29,
    "start_time": "2024-07-15T18:12:54.488Z"
   },
   {
    "duration": 37,
    "start_time": "2024-07-15T18:12:54.520Z"
   },
   {
    "duration": 6,
    "start_time": "2024-07-15T18:12:54.562Z"
   },
   {
    "duration": 11,
    "start_time": "2024-07-15T18:12:54.608Z"
   },
   {
    "duration": 7,
    "start_time": "2024-07-15T18:12:54.623Z"
   },
   {
    "duration": 41,
    "start_time": "2024-07-15T18:12:54.635Z"
   },
   {
    "duration": 64,
    "start_time": "2024-07-15T18:12:54.679Z"
   },
   {
    "duration": 67,
    "start_time": "2024-07-15T18:12:54.745Z"
   },
   {
    "duration": 72,
    "start_time": "2024-07-15T18:12:54.815Z"
   },
   {
    "duration": 85,
    "start_time": "2024-07-15T18:12:54.905Z"
   },
   {
    "duration": 29,
    "start_time": "2024-07-15T18:12:54.992Z"
   },
   {
    "duration": 16,
    "start_time": "2024-07-15T18:12:55.027Z"
   },
   {
    "duration": 25,
    "start_time": "2024-07-15T18:12:55.046Z"
   },
   {
    "duration": 14,
    "start_time": "2024-07-15T18:12:55.074Z"
   },
   {
    "duration": 21,
    "start_time": "2024-07-15T18:12:55.107Z"
   },
   {
    "duration": 75,
    "start_time": "2024-07-15T18:12:55.134Z"
   },
   {
    "duration": 44,
    "start_time": "2024-07-15T18:12:55.212Z"
   },
   {
    "duration": 51,
    "start_time": "2024-07-15T18:12:55.258Z"
   },
   {
    "duration": 14,
    "start_time": "2024-07-15T18:12:55.312Z"
   },
   {
    "duration": 370,
    "start_time": "2024-07-15T18:12:55.330Z"
   },
   {
    "duration": 1,
    "start_time": "2024-07-15T18:12:55.706Z"
   },
   {
    "duration": 0,
    "start_time": "2024-07-15T18:12:55.709Z"
   },
   {
    "duration": 0,
    "start_time": "2024-07-15T18:12:55.710Z"
   },
   {
    "duration": 26,
    "start_time": "2024-07-15T18:14:22.696Z"
   },
   {
    "duration": 22,
    "start_time": "2024-07-15T18:16:31.814Z"
   },
   {
    "duration": 9,
    "start_time": "2024-07-15T18:16:34.534Z"
   },
   {
    "duration": 13,
    "start_time": "2024-07-15T18:16:35.353Z"
   },
   {
    "duration": 310,
    "start_time": "2024-07-15T22:38:33.484Z"
   },
   {
    "duration": 23,
    "start_time": "2024-07-15T22:38:44.475Z"
   },
   {
    "duration": 21,
    "start_time": "2024-07-15T22:38:47.399Z"
   },
   {
    "duration": 21,
    "start_time": "2024-07-15T22:38:50.170Z"
   },
   {
    "duration": 471,
    "start_time": "2024-07-15T22:38:59.836Z"
   },
   {
    "duration": 240,
    "start_time": "2024-07-15T22:39:00.549Z"
   },
   {
    "duration": 26,
    "start_time": "2024-07-15T22:39:00.905Z"
   },
   {
    "duration": 36,
    "start_time": "2024-07-15T22:39:01.531Z"
   },
   {
    "duration": 6,
    "start_time": "2024-07-15T22:39:03.076Z"
   },
   {
    "duration": 8,
    "start_time": "2024-07-15T22:39:03.696Z"
   },
   {
    "duration": 6,
    "start_time": "2024-07-15T22:39:04.253Z"
   },
   {
    "duration": 29,
    "start_time": "2024-07-15T22:39:05.453Z"
   },
   {
    "duration": 41,
    "start_time": "2024-07-15T22:39:07.196Z"
   },
   {
    "duration": 54,
    "start_time": "2024-07-15T22:39:08.222Z"
   },
   {
    "duration": 74,
    "start_time": "2024-07-15T22:39:10.304Z"
   },
   {
    "duration": 86,
    "start_time": "2024-07-15T22:39:13.774Z"
   },
   {
    "duration": 17,
    "start_time": "2024-07-15T22:39:34.957Z"
   },
   {
    "duration": 15,
    "start_time": "2024-07-15T22:39:41.956Z"
   },
   {
    "duration": 16,
    "start_time": "2024-07-15T22:39:44.048Z"
   },
   {
    "duration": 17,
    "start_time": "2024-07-15T22:39:45.797Z"
   },
   {
    "duration": 17,
    "start_time": "2024-07-15T22:41:32.162Z"
   },
   {
    "duration": 19,
    "start_time": "2024-07-15T22:41:34.328Z"
   },
   {
    "duration": 17,
    "start_time": "2024-07-15T22:41:35.987Z"
   },
   {
    "duration": 726,
    "start_time": "2024-07-15T22:42:42.372Z"
   },
   {
    "duration": 0,
    "start_time": "2024-07-15T22:42:43.101Z"
   },
   {
    "duration": 15,
    "start_time": "2024-07-15T22:42:51.582Z"
   },
   {
    "duration": 6,
    "start_time": "2024-07-15T22:43:08.874Z"
   },
   {
    "duration": 12,
    "start_time": "2024-07-15T22:43:09.871Z"
   },
   {
    "duration": 6,
    "start_time": "2024-07-15T22:43:11.314Z"
   },
   {
    "duration": 28,
    "start_time": "2024-07-15T22:43:12.585Z"
   },
   {
    "duration": 37,
    "start_time": "2024-07-15T22:43:15.304Z"
   },
   {
    "duration": 53,
    "start_time": "2024-07-15T22:43:31.579Z"
   },
   {
    "duration": 75,
    "start_time": "2024-07-15T22:43:33.301Z"
   },
   {
    "duration": 84,
    "start_time": "2024-07-15T22:43:36.148Z"
   },
   {
    "duration": 17,
    "start_time": "2024-07-15T22:43:37.433Z"
   },
   {
    "duration": 16,
    "start_time": "2024-07-15T22:43:38.871Z"
   },
   {
    "duration": 11,
    "start_time": "2024-07-15T22:43:41.045Z"
   },
   {
    "duration": 5,
    "start_time": "2024-07-15T22:43:42.561Z"
   },
   {
    "duration": 33,
    "start_time": "2024-07-15T22:43:43.448Z"
   },
   {
    "duration": 62,
    "start_time": "2024-07-15T22:43:44.236Z"
   },
   {
    "duration": 42,
    "start_time": "2024-07-15T22:43:48.450Z"
   },
   {
    "duration": 31,
    "start_time": "2024-07-15T22:43:49.550Z"
   },
   {
    "duration": 23,
    "start_time": "2024-07-15T22:44:43.455Z"
   },
   {
    "duration": 22,
    "start_time": "2024-07-15T22:47:22.749Z"
   },
   {
    "duration": 44,
    "start_time": "2024-07-15T22:53:57.952Z"
   },
   {
    "duration": 32,
    "start_time": "2024-07-15T22:54:10.943Z"
   },
   {
    "duration": 17,
    "start_time": "2024-07-15T22:54:14.324Z"
   },
   {
    "duration": 15,
    "start_time": "2024-07-15T22:55:43.253Z"
   },
   {
    "duration": 24,
    "start_time": "2024-07-15T22:55:52.622Z"
   },
   {
    "duration": 8,
    "start_time": "2024-07-15T22:56:36.441Z"
   },
   {
    "duration": 33,
    "start_time": "2024-07-15T22:56:58.298Z"
   },
   {
    "duration": 23,
    "start_time": "2024-07-15T23:00:15.824Z"
   },
   {
    "duration": 20,
    "start_time": "2024-07-15T23:00:18.604Z"
   },
   {
    "duration": 21,
    "start_time": "2024-07-15T23:00:19.795Z"
   },
   {
    "duration": 23,
    "start_time": "2024-07-15T23:00:26.730Z"
   },
   {
    "duration": 22,
    "start_time": "2024-07-15T23:01:11.934Z"
   },
   {
    "duration": 11,
    "start_time": "2024-07-15T23:02:03.470Z"
   },
   {
    "duration": 20,
    "start_time": "2024-07-15T23:02:20.355Z"
   },
   {
    "duration": 17,
    "start_time": "2024-07-15T23:03:58.776Z"
   },
   {
    "duration": 449,
    "start_time": "2024-07-15T23:04:24.160Z"
   },
   {
    "duration": 149,
    "start_time": "2024-07-15T23:04:32.254Z"
   },
   {
    "duration": 76,
    "start_time": "2024-07-15T23:04:35.692Z"
   },
   {
    "duration": 21,
    "start_time": "2024-07-15T23:04:39.791Z"
   },
   {
    "duration": 5,
    "start_time": "2024-07-15T23:04:40.213Z"
   },
   {
    "duration": 13,
    "start_time": "2024-07-15T23:04:41.481Z"
   },
   {
    "duration": 79,
    "start_time": "2024-07-15T23:04:58.453Z"
   },
   {
    "duration": 21,
    "start_time": "2024-07-15T23:05:01.936Z"
   },
   {
    "duration": 6,
    "start_time": "2024-07-15T23:05:02.457Z"
   },
   {
    "duration": 15,
    "start_time": "2024-07-15T23:05:04.200Z"
   },
   {
    "duration": 76,
    "start_time": "2024-07-15T23:18:33.300Z"
   },
   {
    "duration": 25,
    "start_time": "2024-07-15T23:18:35.668Z"
   },
   {
    "duration": 14,
    "start_time": "2024-07-15T23:18:36.937Z"
   },
   {
    "duration": 474,
    "start_time": "2024-07-17T05:30:56.616Z"
   },
   {
    "duration": 231,
    "start_time": "2024-07-17T05:30:57.093Z"
   },
   {
    "duration": 25,
    "start_time": "2024-07-17T05:30:57.326Z"
   },
   {
    "duration": 37,
    "start_time": "2024-07-17T05:30:57.353Z"
   },
   {
    "duration": 6,
    "start_time": "2024-07-17T05:30:57.394Z"
   },
   {
    "duration": 12,
    "start_time": "2024-07-17T05:30:57.432Z"
   },
   {
    "duration": 9,
    "start_time": "2024-07-17T05:30:57.447Z"
   },
   {
    "duration": 29,
    "start_time": "2024-07-17T05:30:57.459Z"
   },
   {
    "duration": 76,
    "start_time": "2024-07-17T05:30:57.490Z"
   },
   {
    "duration": 71,
    "start_time": "2024-07-17T05:30:57.569Z"
   },
   {
    "duration": 73,
    "start_time": "2024-07-17T05:30:57.643Z"
   },
   {
    "duration": 85,
    "start_time": "2024-07-17T05:30:57.731Z"
   },
   {
    "duration": 20,
    "start_time": "2024-07-17T05:30:57.831Z"
   },
   {
    "duration": 19,
    "start_time": "2024-07-17T05:30:57.857Z"
   },
   {
    "duration": 12,
    "start_time": "2024-07-17T05:30:57.880Z"
   },
   {
    "duration": 5,
    "start_time": "2024-07-17T05:30:57.930Z"
   },
   {
    "duration": 22,
    "start_time": "2024-07-17T05:30:57.939Z"
   },
   {
    "duration": 89,
    "start_time": "2024-07-17T05:30:57.964Z"
   },
   {
    "duration": 42,
    "start_time": "2024-07-17T05:30:58.056Z"
   },
   {
    "duration": 52,
    "start_time": "2024-07-17T05:30:58.100Z"
   },
   {
    "duration": 16,
    "start_time": "2024-07-17T05:30:58.155Z"
   },
   {
    "duration": 9,
    "start_time": "2024-07-17T05:30:58.174Z"
   },
   {
    "duration": 53,
    "start_time": "2024-07-17T05:30:58.186Z"
   },
   {
    "duration": 15,
    "start_time": "2024-07-17T05:30:58.242Z"
   },
   {
    "duration": 466,
    "start_time": "2024-07-17T05:30:59.840Z"
   },
   {
    "duration": 208,
    "start_time": "2024-07-17T05:31:00.310Z"
   },
   {
    "duration": 27,
    "start_time": "2024-07-17T05:31:00.521Z"
   },
   {
    "duration": 35,
    "start_time": "2024-07-17T05:31:00.554Z"
   },
   {
    "duration": 6,
    "start_time": "2024-07-17T05:31:00.592Z"
   },
   {
    "duration": 9,
    "start_time": "2024-07-17T05:31:00.631Z"
   },
   {
    "duration": 7,
    "start_time": "2024-07-17T05:31:00.643Z"
   },
   {
    "duration": 30,
    "start_time": "2024-07-17T05:31:00.653Z"
   },
   {
    "duration": 72,
    "start_time": "2024-07-17T05:31:00.686Z"
   },
   {
    "duration": 71,
    "start_time": "2024-07-17T05:31:00.764Z"
   },
   {
    "duration": 92,
    "start_time": "2024-07-17T05:31:00.840Z"
   },
   {
    "duration": 96,
    "start_time": "2024-07-17T05:31:00.935Z"
   },
   {
    "duration": 18,
    "start_time": "2024-07-17T05:31:01.034Z"
   },
   {
    "duration": 16,
    "start_time": "2024-07-17T05:31:01.054Z"
   },
   {
    "duration": 11,
    "start_time": "2024-07-17T05:31:01.073Z"
   },
   {
    "duration": 4,
    "start_time": "2024-07-17T05:31:01.087Z"
   },
   {
    "duration": 21,
    "start_time": "2024-07-17T05:31:01.132Z"
   },
   {
    "duration": 87,
    "start_time": "2024-07-17T05:31:01.156Z"
   },
   {
    "duration": 45,
    "start_time": "2024-07-17T05:31:01.247Z"
   },
   {
    "duration": 54,
    "start_time": "2024-07-17T05:31:01.295Z"
   },
   {
    "duration": 16,
    "start_time": "2024-07-17T05:31:01.352Z"
   },
   {
    "duration": 9,
    "start_time": "2024-07-17T05:31:01.370Z"
   },
   {
    "duration": 58,
    "start_time": "2024-07-17T05:31:01.382Z"
   },
   {
    "duration": 15,
    "start_time": "2024-07-17T05:31:01.443Z"
   },
   {
    "duration": 158,
    "start_time": "2025-03-27T14:42:09.022Z"
   },
   {
    "duration": 297,
    "start_time": "2025-03-27T14:42:20.935Z"
   },
   {
    "duration": 144,
    "start_time": "2025-03-27T14:42:21.485Z"
   },
   {
    "duration": 14,
    "start_time": "2025-03-27T14:42:22.919Z"
   },
   {
    "duration": 23,
    "start_time": "2025-03-27T14:42:23.698Z"
   },
   {
    "duration": 5,
    "start_time": "2025-03-27T14:42:24.673Z"
   },
   {
    "duration": 8,
    "start_time": "2025-03-27T14:42:25.092Z"
   },
   {
    "duration": 4,
    "start_time": "2025-03-27T14:42:25.676Z"
   },
   {
    "duration": 20,
    "start_time": "2025-03-27T14:42:26.090Z"
   },
   {
    "duration": 26,
    "start_time": "2025-03-27T14:42:26.720Z"
   },
   {
    "duration": 34,
    "start_time": "2025-03-27T14:42:26.954Z"
   },
   {
    "duration": 46,
    "start_time": "2025-03-27T14:42:28.250Z"
   },
   {
    "duration": 47,
    "start_time": "2025-03-27T14:42:29.281Z"
   },
   {
    "duration": 12,
    "start_time": "2025-03-27T14:43:09.094Z"
   },
   {
    "duration": 9,
    "start_time": "2025-03-27T14:43:26.083Z"
   },
   {
    "duration": 36,
    "start_time": "2025-03-27T14:54:24.691Z"
   },
   {
    "duration": 20,
    "start_time": "2025-03-27T14:54:31.393Z"
   },
   {
    "duration": 23,
    "start_time": "2025-03-27T14:54:32.295Z"
   },
   {
    "duration": 43,
    "start_time": "2025-03-27T14:54:32.415Z"
   },
   {
    "duration": 42,
    "start_time": "2025-03-27T14:54:32.685Z"
   },
   {
    "duration": 44,
    "start_time": "2025-03-27T14:54:32.933Z"
   },
   {
    "duration": 10,
    "start_time": "2025-03-27T14:54:33.294Z"
   },
   {
    "duration": 10,
    "start_time": "2025-03-27T14:54:33.576Z"
   },
   {
    "duration": 6,
    "start_time": "2025-03-27T14:54:33.688Z"
   },
   {
    "duration": 3,
    "start_time": "2025-03-27T14:54:33.950Z"
   },
   {
    "duration": 13,
    "start_time": "2025-03-27T14:54:34.232Z"
   },
   {
    "duration": 37,
    "start_time": "2025-03-27T14:54:34.472Z"
   },
   {
    "duration": 27,
    "start_time": "2025-03-27T14:54:35.361Z"
   },
   {
    "duration": 17,
    "start_time": "2025-03-27T14:54:35.854Z"
   },
   {
    "duration": 10,
    "start_time": "2025-03-27T14:54:37.335Z"
   },
   {
    "duration": 8,
    "start_time": "2025-03-27T14:54:38.482Z"
   },
   {
    "duration": 6,
    "start_time": "2025-03-27T14:54:48.701Z"
   },
   {
    "duration": 13,
    "start_time": "2025-03-27T14:55:49.931Z"
   },
   {
    "duration": 8,
    "start_time": "2025-03-27T14:55:57.893Z"
   },
   {
    "duration": 393,
    "start_time": "2025-03-27T14:56:16.276Z"
   },
   {
    "duration": 37,
    "start_time": "2025-03-27T14:56:54.997Z"
   },
   {
    "duration": 44,
    "start_time": "2025-03-27T14:58:28.847Z"
   },
   {
    "duration": 2,
    "start_time": "2025-03-27T14:58:32.923Z"
   },
   {
    "duration": 121,
    "start_time": "2025-03-27T14:58:32.927Z"
   },
   {
    "duration": 10,
    "start_time": "2025-03-27T14:58:33.050Z"
   },
   {
    "duration": 21,
    "start_time": "2025-03-27T14:58:33.062Z"
   },
   {
    "duration": 19,
    "start_time": "2025-03-27T14:58:33.086Z"
   },
   {
    "duration": 6,
    "start_time": "2025-03-27T14:58:33.107Z"
   },
   {
    "duration": 4,
    "start_time": "2025-03-27T14:58:33.114Z"
   },
   {
    "duration": 19,
    "start_time": "2025-03-27T14:58:33.120Z"
   },
   {
    "duration": 22,
    "start_time": "2025-03-27T14:58:33.141Z"
   },
   {
    "duration": 57,
    "start_time": "2025-03-27T14:58:33.165Z"
   },
   {
    "duration": 39,
    "start_time": "2025-03-27T14:58:33.223Z"
   },
   {
    "duration": 60,
    "start_time": "2025-03-27T14:58:33.263Z"
   },
   {
    "duration": 9,
    "start_time": "2025-03-27T14:58:33.324Z"
   },
   {
    "duration": 8,
    "start_time": "2025-03-27T14:58:33.336Z"
   },
   {
    "duration": 7,
    "start_time": "2025-03-27T14:58:33.346Z"
   },
   {
    "duration": 3,
    "start_time": "2025-03-27T14:58:33.354Z"
   },
   {
    "duration": 12,
    "start_time": "2025-03-27T14:58:33.359Z"
   },
   {
    "duration": 65,
    "start_time": "2025-03-27T14:58:33.372Z"
   },
   {
    "duration": 26,
    "start_time": "2025-03-27T14:58:33.439Z"
   },
   {
    "duration": 17,
    "start_time": "2025-03-27T14:58:33.466Z"
   },
   {
    "duration": 9,
    "start_time": "2025-03-27T14:58:33.505Z"
   },
   {
    "duration": 5,
    "start_time": "2025-03-27T14:58:33.515Z"
   },
   {
    "duration": 11,
    "start_time": "2025-03-27T14:58:33.522Z"
   },
   {
    "duration": 8,
    "start_time": "2025-03-27T14:58:33.534Z"
   }
  ],
  "kernelspec": {
   "display_name": "Python 3 (ipykernel)",
   "language": "python",
   "name": "python3"
  },
  "language_info": {
   "codemirror_mode": {
    "name": "ipython",
    "version": 3
   },
   "file_extension": ".py",
   "mimetype": "text/x-python",
   "name": "python",
   "nbconvert_exporter": "python",
   "pygments_lexer": "ipython3",
   "version": "3.9.19"
  },
  "toc": {
   "base_numbering": 1,
   "nav_menu": {},
   "number_sections": true,
   "sideBar": true,
   "skip_h1_title": true,
   "title_cell": "Table of Contents",
   "title_sidebar": "Contents",
   "toc_cell": false,
   "toc_position": {},
   "toc_section_display": true,
   "toc_window_display": false
  }
 },
 "nbformat": 4,
 "nbformat_minor": 5
}
